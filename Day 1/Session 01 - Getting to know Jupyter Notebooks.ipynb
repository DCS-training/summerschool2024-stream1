{
 "cells": [
  {
   "cell_type": "markdown",
   "metadata": {},
   "source": [
    "# CDCS Summer School\n",
    "# A Gentle Introduction to Coding for Data Analysis\n",
    "## Session 1: Getting to know Jupyter Notebooks"
   ]
  },
  {
   "cell_type": "markdown",
   "metadata": {},
   "source": [
    "---------------\n",
    "\n",
    "### Learning objectives for this session:\n",
    "\n",
    "At the end of this notebook you will know:\n",
    "\n",
    "1. The drop-down menus.\n",
    "2. **All** the widgets.\n",
    "3. Kernel issues we may encounter.\n",
    "\n",
    "--------"
   ]
  },
  {
   "cell_type": "markdown",
   "metadata": {},
   "source": [
    "This is a **JUPYTER NOTEBOOK**. It's a type of website where you can edit and run computer programs (code). \n",
    "You interact with it in your web browser.\n",
    "\n",
    "1. These blocks here are cells.\n",
    "2. There are **TEXT CELLS** like this one with explanations of concepts.\n",
    "3. And **CODE CELLS** with Python code (see below). Code cells have a ```In []``` written to the left.\n",
    "4. You can **RUN CODE CELLS** by clicking on them and pressing **Shirt + Enter**. When you run a cell code in it is run (it \"happens\", computer will do what you asked for it to do). Results of what your code does will appear underneath the cell.\n",
    "5. Always RUN ALL THE CELLS IN ORDER AS YOU GO THROUGH THIS NOTEBOOK (if you skip some, you might see some unexpected errors)."
   ]
  },
  {
   "cell_type": "code",
   "execution_count": null,
   "metadata": {},
   "outputs": [],
   "source": [
    "print(\"Try running this cell.\")"
   ]
  },
  {
   "cell_type": "markdown",
   "metadata": {},
   "source": [
    "Throughout it is very important to **READ** text cells and **RUN** code cells -- every single one!"
   ]
  },
  {
   "cell_type": "markdown",
   "metadata": {},
   "source": [
    "At the top of the Jupyter Notebook you will find the following menus:\n",
    "\n",
    "- File\n",
    "- Edit\n",
    "- View\n",
    "- Insert\n",
    "- Cell\n",
    "- Kernel\n",
    "- Widgets\n",
    "- Help\n",
    "\n",
    "Some have more intuative features than others. We'll quickly cover them here.\n",
    "\n",
    "#### File\n",
    "The file tab has all the usual type commands you might find in something like Word or Powerpoint. The key command here is **Save and Checkpoint**. The notebooks will automatically save every now and again, but to be on the safe side always do this before closing a tab.\n",
    "\n",
    "#### Edit\n",
    "Most of the commands found in the edit menu are shown in widget form underneath. Therefore we will cover these afterwards.\n",
    "\n",
    "#### View \n",
    "In view there are not many commands but a key one is **Toggle Line Numbers**. This will be useful when working with others to refer to.\n",
    "\n",
    "#### Insert\n",
    "This can be useful for adding cells, but again most are in widget form.\n",
    "\n",
    "#### Cell\n",
    "This allows you to select which cells you run. This can be useful for speed, but we won't look at this much during the course.\n",
    "\n",
    "#### Kernel\n",
    "The Kernel menu is the most important menu to know about. The kernel is what connects your notebook with EDINA allowing the notebook to run. Sometimes you may across issues whereby your notebook is frozen.\n",
    "\n",
    "- In [ * ] on the left of the cells.\n",
    "- ⏳ hourglass icon in your browser tab, instead of 📘 notebook symbol.\n",
    "- Other cells do not run, instead they also get a '*' symbol.\n",
    "\n",
    "If you cannot find which cell is waiting for your input, you can always choose the 'restart' option in the kernel menu. It is basically like switching your computer off and on again. You will NOT lose any of your work, but all variables will be forgotten, so you might need to re-run some cells.\n",
    "\n",
    "#### Widgets\n",
    "These do not refer to the widgets on the bar below, but storing the form of the notebook. I would advise not playing with these options until finishing the course.\n",
    "\n",
    "#### Help\n",
    "Akin to most applications, there is a help section in Jupyter Notebooks. This gives a link to lots of different manuals -- some more specific to Jupyter and others specific to Python. Do feel free to have a search of what is there."
   ]
  },
  {
   "cell_type": "markdown",
   "metadata": {},
   "source": [
    "------------\n",
    "\n",
    "## ⭐️⭐️⭐️💥 What you have learned in this session: Three stars and a wish."
   ]
  },
  {
   "cell_type": "markdown",
   "metadata": {},
   "source": [
    "At this stage of each notebook you will be asked to reflect on your experience of the session. This is completely for you and there is no need to be profound or philosophical. Try to write down three things (stars) which you felt you will take away from the notebook/session and then one item (wish) that you would like to know more about or have a question about. Feel free to share these with the team, in particular don't go away with your questions unanswered!\n",
    "\n",
    "**In your own words** write in the Markdown cell below (by double clicking on the 'add your reflections here' text):\n",
    "\n",
    "- 3 things you would like to remember from this notebook.\n",
    "- 1 thing you wish to understand better in the future or a question you'd like to ask."
   ]
  },
  {
   "cell_type": "markdown",
   "metadata": {},
   "source": [
    "*Add your reflections here.*"
   ]
  },
  {
   "cell_type": "markdown",
   "metadata": {},
   "source": [
    "----------\n",
    "\n",
    "## Topic Overview"
   ]
  },
  {
   "cell_type": "markdown",
   "metadata": {},
   "source": [
    "Usually at this stage in the notebooks you will find a topic overview. This will give some summary chunks of code to guide through the parts of the notebook. DO NOT be tempted to jump here. Always work through the whole notebook."
   ]
  },
  {
   "cell_type": "markdown",
   "metadata": {},
   "source": [
    "-----------\n",
    "\n",
    "# ⛏ Exercises\n",
    "\n",
    "At the end of each notebook you will find some cells which will have exercises in. These will expect you to type things similar to that you have learnt in the notebook."
   ]
  },
  {
   "cell_type": "markdown",
   "metadata": {},
   "source": [
    "For a short exercise here, copying the cell at the top of the notebook, get the console to print your name. "
   ]
  },
  {
   "cell_type": "code",
   "execution_count": null,
   "metadata": {},
   "outputs": [],
   "source": [
    "# Insert your attempt here."
   ]
  }
 ],
 "metadata": {
  "kernelspec": {
   "display_name": "Python 3 (ipykernel)",
   "language": "python",
   "name": "python3"
  },
  "language_info": {
   "codemirror_mode": {
    "name": "ipython",
    "version": 3
   },
   "file_extension": ".py",
   "mimetype": "text/x-python",
   "name": "python",
   "nbconvert_exporter": "python",
   "pygments_lexer": "ipython3",
   "version": "3.9.13"
  }
 },
 "nbformat": 4,
 "nbformat_minor": 2
}

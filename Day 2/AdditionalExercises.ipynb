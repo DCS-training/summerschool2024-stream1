{
 "cells": [
  {
   "cell_type": "markdown",
   "id": "18fb2cac",
   "metadata": {},
   "source": [
    "# Additional Exercise 1:\n",
    "\n",
    "In this task, you will define a function that uses conditional statements to vary its behavior based on input parameters.\n",
    "\n",
    "Instructions:\n",
    "- Define a function named penguin_show that takes two parameters: action, and penguin_type.\n",
    "- Inside the function, use conditional statements to print different introductory messages based on the value of penguin_type (e.g., \"King Penguin\", \"Emperor Penguin\", etc.).\n",
    "- Call the penguin_show function with different combinations of parameters to see the output."
   ]
  },
  {
   "cell_type": "code",
   "execution_count": null,
   "id": "df87765f",
   "metadata": {},
   "outputs": [],
   "source": [
    "# solve your exercise here."
   ]
  },
  {
   "cell_type": "markdown",
   "id": "ed609231",
   "metadata": {},
   "source": [
    "# Additional Exercise 2:\n",
    "\n",
    "In this task, you will define a function that performs calculations and returns a result based on input parameters.\n",
    "\n",
    "Instructions:\n",
    "- Define a function named penguin_waddle_distance that takes two parameters: steps and step_length.\n",
    "- The function should calculate the total distance a penguin waddles by multiplying steps by step_length.\n",
    "- The function should return the total distance.\n",
    "- Call the penguin_waddle_distance function with different values and print the results."
   ]
  },
  {
   "cell_type": "code",
   "execution_count": null,
   "id": "9371c710",
   "metadata": {},
   "outputs": [],
   "source": [
    "# solve your exercise here."
   ]
  }
 ],
 "metadata": {
  "kernelspec": {
   "display_name": "Python 3 (ipykernel)",
   "language": "python",
   "name": "python3"
  },
  "language_info": {
   "codemirror_mode": {
    "name": "ipython",
    "version": 3
   },
   "file_extension": ".py",
   "mimetype": "text/x-python",
   "name": "python",
   "nbconvert_exporter": "python",
   "pygments_lexer": "ipython3",
   "version": "3.9.13"
  }
 },
 "nbformat": 4,
 "nbformat_minor": 5
}

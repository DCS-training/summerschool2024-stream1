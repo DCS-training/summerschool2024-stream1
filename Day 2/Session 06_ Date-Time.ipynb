{
 "cells": [
  {
   "cell_type": "markdown",
   "metadata": {},
   "source": [
    "# CDCS Summer School\n",
    "# A Gentle Introduction to Coding for Data Analysis\n",
    "## Session 6: Date-Time"
   ]
  },
  {
   "cell_type": "markdown",
   "metadata": {},
   "source": [
    "---------------\n",
    "\n",
    "### Learning objectives for this session:\n",
    "\n",
    "At the end of this notebook you will know:\n",
    "\n",
    "1. Basic data types (Integer, Float, String and Boolean).\n",
    "2. How to create and use date-time objects from the 'datetime' package.\n",
    "3. Formatting of date-time objects to readable strings.\n",
    "4. Calculating differences between dates and times."
   ]
  },
  {
   "cell_type": "markdown",
   "metadata": {},
   "source": [
    "--------\n",
    "\n",
    "## 1. Basic Data Types"
   ]
  },
  {
   "cell_type": "markdown",
   "metadata": {},
   "source": [
    "Recall from what we have seen before, there are the following data types in Python:\n",
    "\n",
    "- **Integer**: Represent whole numbers without a fractional part.\n",
    "- **Float**: Numbers that contain a decimal or floating point.\n",
    "- **String**: Sequences of characters used for storing text.\n",
    "- **Boolean**: Logical values indicating True or False.\n",
    "\n",
    "\n",
    "Some examples are...\n",
    "\n",
    "**int**: 43\n",
    "\n",
    "**float**: 6.23\n",
    "\n",
    "**string**: \"Penguin\"\n",
    "\n",
    "**bool**: logic values like true or false\n",
    "\n",
    "If you want to find out what type of data is stored in a variable, you can ask python by using 'type(your_variable)'. Go ahead below and create some data about something...perhaps Penguins? Make sure you use each of the four different types. Rename the fields and place the new names in the correct place."
   ]
  },
  {
   "cell_type": "code",
   "execution_count": 1,
   "metadata": {},
   "outputs": [
    {
     "name": "stdout",
     "output_type": "stream",
     "text": [
      "insert insert insert insert insert insert\n",
      "<class 'str'> <class 'str'> <class 'str'> <class 'str'> <class 'str'> <class 'str'>\n"
     ]
    }
   ],
   "source": [
    "field1 = \"insert\"\n",
    "field2 = \"insert\"\n",
    "field3 = \"insert\"\n",
    "field4 = \"insert\"\n",
    "field5 = \"insert\"\n",
    "field6 = \"insert\"\n",
    "\n",
    "# Let's print values of these variables.\n",
    "\n",
    "print(field1, field2, field3, field4, field5, field6)\n",
    "\n",
    "# Let's print types of these variables.\n",
    "\n",
    "print(type(field1), type(field2), type(field3), type(field4), type(field5), type(field6))"
   ]
  },
  {
   "cell_type": "markdown",
   "metadata": {},
   "source": [
    "--------\n",
    "## 2. Creating Date-Time Objects"
   ]
  },
  {
   "cell_type": "markdown",
   "metadata": {},
   "source": [
    "Dates and Times in programming are not often in-built data types, but often people have already built functions to deal with specific cases, including date-time data. These are put together into a **package** which we can import and use.\n",
    "\n",
    "The `datetime` package in Python is a collection of robust and flexible functions, allowing for the creation, manipulation, and formatting of date and time data."
   ]
  },
  {
   "cell_type": "code",
   "execution_count": 2,
   "metadata": {},
   "outputs": [],
   "source": [
    "# Firstly we have to 'import' the package with all the date time features.\n",
    "# Notice the word 'import' is green as it is an in-built term to Python.\n",
    "# We choose to import the package as 'dt' for short-hand. This is common practice, but is personal choice.\n",
    "\n",
    "import datetime as dt"
   ]
  },
  {
   "cell_type": "markdown",
   "metadata": {},
   "source": [
    "We'll talk more about packages when it comes to using data. However for now a key take away is that we have to import a package **once** within a notebook, then we can use all the functions within it. If you get an error, it might be that you didn't run the package import. \n",
    "\n",
    "Try running the name of the package below. You should see a description of the package with its stored location on EDINA."
   ]
  },
  {
   "cell_type": "code",
   "execution_count": 3,
   "metadata": {},
   "outputs": [
    {
     "data": {
      "text/plain": [
       "<module 'datetime' from '/opt/conda/lib/python3.9/datetime.py'>"
      ]
     },
     "execution_count": 3,
     "metadata": {},
     "output_type": "execute_result"
    }
   ],
   "source": [
    "dt"
   ]
  },
  {
   "cell_type": "markdown",
   "metadata": {},
   "source": [
    "In order to create date-time objects there are two useful commands.\n",
    "\n",
    "- `datetime.now()`: Get the current date and time.\n",
    "- `datetime()`: Create a specific date and time by specifying year, month, day, hour, minute, and second."
   ]
  },
  {
   "cell_type": "code",
   "execution_count": 4,
   "metadata": {},
   "outputs": [
    {
     "data": {
      "text/plain": [
       "datetime.datetime(2024, 5, 6, 20, 6, 58, 947250)"
      ]
     },
     "execution_count": 4,
     "metadata": {},
     "output_type": "execute_result"
    }
   ],
   "source": [
    "# Here we take the current date and time.\n",
    "# We firstly say we want to look at the package datetime by 'dt'.\n",
    "# Then we add '.datetime' to get to the functions within it.\n",
    "# Finally we add '.now()' to get the current date-time.\n",
    "\n",
    "dt.datetime.now()"
   ]
  },
  {
   "cell_type": "code",
   "execution_count": 5,
   "metadata": {},
   "outputs": [
    {
     "data": {
      "text/plain": [
       "datetime.datetime(2024, 5, 6, 20, 6, 58, 957559)"
      ]
     },
     "execution_count": 5,
     "metadata": {},
     "output_type": "execute_result"
    }
   ],
   "source": [
    "# We can store this like we do other variables.\n",
    "current_datetime = dt.datetime.now()\n",
    "\n",
    "current_datetime"
   ]
  },
  {
   "cell_type": "code",
   "execution_count": 6,
   "metadata": {},
   "outputs": [
    {
     "name": "stdout",
     "output_type": "stream",
     "text": [
      "Current date and time: 2024-05-06 20:06:58.965689\n"
     ]
    }
   ],
   "source": [
    "# We might want to print this in a more aesthetically pleasing way.\n",
    "now = dt.datetime.now()\n",
    "print(\"Current date and time:\", now)"
   ]
  },
  {
   "cell_type": "code",
   "execution_count": 7,
   "metadata": {},
   "outputs": [
    {
     "data": {
      "text/plain": [
       "datetime.datetime"
      ]
     },
     "execution_count": 7,
     "metadata": {},
     "output_type": "execute_result"
    }
   ],
   "source": [
    "# Note that even though we imported a package, this is a recognised type in Python.\n",
    "type(now)"
   ]
  },
  {
   "cell_type": "code",
   "execution_count": 8,
   "metadata": {},
   "outputs": [
    {
     "name": "stdout",
     "output_type": "stream",
     "text": [
      "The summer school starts on: 2024-06-10 09:00:00\n"
     ]
    }
   ],
   "source": [
    "# Sometimes we want to store a significant date,\n",
    "summer_school_start = dt.datetime(2024, 6, 10, 9, 0, 0)\n",
    "\n",
    "print(\"The summer school starts on:\", summer_school_start)"
   ]
  },
  {
   "cell_type": "markdown",
   "metadata": {},
   "source": [
    "Notice that this 'package' forms the date-time in the international standard format, not the British format. That is we always specify year-month-date, not date-month-year. This can cause a lot of confusion at first, and so it is useful to use the specific parameter names like we do with functions we build. Consider the following..."
   ]
  },
  {
   "cell_type": "code",
   "execution_count": 9,
   "metadata": {},
   "outputs": [
    {
     "name": "stdout",
     "output_type": "stream",
     "text": [
      "2024-12-31 23:59:59\n",
      "2024-12-31 23:59:59\n"
     ]
    }
   ],
   "source": [
    "new_years_eve_full = dt.datetime(year=2024, month=12, day=31, hour=23, minute=59, second=59)\n",
    "new_year_eve_short = dt.datetime(2024, 12, 31, 23, 59, 59)\n",
    "\n",
    "# Both will show the same thing.\n",
    "print(new_years_eve_full)\n",
    "print(new_year_eve_short)"
   ]
  },
  {
   "cell_type": "code",
   "execution_count": 10,
   "metadata": {},
   "outputs": [
    {
     "name": "stdout",
     "output_type": "stream",
     "text": [
      "The current date and time is before New Year's Eve 2024.\n"
     ]
    }
   ],
   "source": [
    "# It is also possible to use these date-time objects for comparison\n",
    "if now < new_years_eve_full:\n",
    "    print(\"The current date and time is before New Year's Eve 2024.\")\n",
    "else:\n",
    "    print(\"The current date and time is after New Year's Eve 2024.\")"
   ]
  },
  {
   "cell_type": "markdown",
   "metadata": {},
   "source": [
    "--------\n",
    "## 3. Formatting Date-Time Objects"
   ]
  },
  {
   "cell_type": "markdown",
   "metadata": {},
   "source": [
    "It may be that we do not require the full date-time object and instead we want to just obtain the year for example. Alternatively we might want to print the date in a specific format in a sentence."
   ]
  },
  {
   "cell_type": "code",
   "execution_count": 11,
   "metadata": {},
   "outputs": [
    {
     "name": "stdout",
     "output_type": "stream",
     "text": [
      "Default format: 2024-05-06 20:06:58.965689\n"
     ]
    }
   ],
   "source": [
    "# Default string representation\n",
    "print(\"Default format:\", now)"
   ]
  },
  {
   "cell_type": "code",
   "execution_count": 12,
   "metadata": {},
   "outputs": [
    {
     "name": "stdout",
     "output_type": "stream",
     "text": [
      "Formatted date (YYYY-MM-DD): 2024-05-06\n",
      "Formatted time (HH:MM AM/PM): 08:06 PM\n",
      "Formatted with weekday and full month name: Monday, May 06, 2024\n",
      "The session starts on Monday, May 06 at 08:06 PM\n"
     ]
    }
   ],
   "source": [
    "# Custom formats\n",
    "# Date in \"Year-Month-Day\"\n",
    "formatted_date = now.strftime(\"%Y-%m-%d\")\n",
    "print(\"Formatted date (YYYY-MM-DD):\", formatted_date)\n",
    "\n",
    "# Time in \"Hour:Minute AM/PM\"\n",
    "formatted_time = now.strftime(\"%I:%M %p\")\n",
    "print(\"Formatted time (HH:MM AM/PM):\", formatted_time)\n",
    "\n",
    "# Weekday and Full Month name\n",
    "formatted_full = now.strftime(\"%A, %B %d, %Y\")\n",
    "print(\"Formatted with weekday and full month name:\", formatted_full)\n",
    "\n",
    "# Combining custom texts with date formatting\n",
    "event = now.strftime(\"The session starts on %A, %B %d at %I:%M %p\")\n",
    "print(event)"
   ]
  },
  {
   "cell_type": "markdown",
   "metadata": {},
   "source": [
    "Notice we are accessing different elements of the date-time object using ```%``` with some letter. The list of different letters can be found here: https://strftime.org"
   ]
  },
  {
   "cell_type": "markdown",
   "metadata": {},
   "source": [
    "--------\n",
    "## 4. Calculating differences between date and time objects"
   ]
  },
  {
   "cell_type": "markdown",
   "metadata": {},
   "source": [
    "It is also necessary sometimes to perform numerical calculations on date-time objects as well, for example finding out the number of days between two dates. In order to do this we can either use two date-time objects, or instead create a new date-time object which itself does not represent a date/time but a period of time instead."
   ]
  },
  {
   "cell_type": "code",
   "execution_count": 13,
   "metadata": {},
   "outputs": [],
   "source": [
    "# Define two date-time objects\n",
    "start_date = dt.datetime(2024, 1, 1)\n",
    "end_date = dt.datetime(2024, 12, 31)"
   ]
  },
  {
   "cell_type": "code",
   "execution_count": 14,
   "metadata": {},
   "outputs": [
    {
     "name": "stdout",
     "output_type": "stream",
     "text": [
      "Duration between dates: 365 days, 0:00:00\n"
     ]
    }
   ],
   "source": [
    "# Calculate the difference between dates\n",
    "duration = end_date - start_date\n",
    "print(\"Duration between dates:\", duration)"
   ]
  },
  {
   "cell_type": "code",
   "execution_count": 15,
   "metadata": {},
   "outputs": [
    {
     "name": "stdout",
     "output_type": "stream",
     "text": [
      "Duration in days: 365\n"
     ]
    }
   ],
   "source": [
    "# Notice if we only care about one unit of time we can extract this by adding for example '.days' to the end\n",
    "# in order to extract the number of days.\n",
    "print(\"Duration in days:\", duration.days)"
   ]
  },
  {
   "cell_type": "code",
   "execution_count": 16,
   "metadata": {},
   "outputs": [
    {
     "name": "stdout",
     "output_type": "stream",
     "text": [
      "Thirty days after start date: 2024-01-31 00:00:00\n"
     ]
    }
   ],
   "source": [
    "# Adding and subtracting time using timedelta\n",
    "# Adding 30 days to start_date\n",
    "thirty_days_later = start_date + dt.timedelta(days=30)\n",
    "print(\"Thirty days after start date:\", thirty_days_later)"
   ]
  },
  {
   "cell_type": "code",
   "execution_count": 17,
   "metadata": {},
   "outputs": [
    {
     "name": "stdout",
     "output_type": "stream",
     "text": [
      "Five days before end date: 2024-12-26 00:00:00\n"
     ]
    }
   ],
   "source": [
    "# Subtracting 5 days from end_date\n",
    "five_days_before = end_date - dt.timedelta(days=5)\n",
    "print(\"Five days before end date:\", five_days_before)"
   ]
  },
  {
   "cell_type": "code",
   "execution_count": 18,
   "metadata": {},
   "outputs": [
    {
     "name": "stdout",
     "output_type": "stream",
     "text": [
      "Time until project deadline: 54 days, 3:53:00.946392\n"
     ]
    }
   ],
   "source": [
    "# Calculating time until a future event (e.g., a project deadline)\n",
    "project_deadline = dt.datetime(2024, 6, 30)\n",
    "today = dt.datetime.now()\n",
    "time_until_deadline = project_deadline - today\n",
    "print(\"Time until project deadline:\", time_until_deadline)"
   ]
  },
  {
   "cell_type": "markdown",
   "metadata": {},
   "source": [
    "---------\n",
    "\n",
    "## ⭐️⭐️⭐️💥 What you have learned in this session: Three stars and a wish."
   ]
  },
  {
   "cell_type": "markdown",
   "metadata": {},
   "source": [
    "**In your own words** write in the Markdown cell below:\n",
    "\n",
    "- 3 things you would like to remember from this notebook.\n",
    "- 1 thing you wish to understand better in the future or a question you'd like to ask."
   ]
  },
  {
   "cell_type": "markdown",
   "metadata": {},
   "source": [
    "*Add your reflections here.*"
   ]
  },
  {
   "cell_type": "markdown",
   "metadata": {},
   "source": [
    "--------------\n",
    "\n",
    "## Topic Overview"
   ]
  },
  {
   "cell_type": "code",
   "execution_count": 19,
   "metadata": {},
   "outputs": [
    {
     "name": "stdout",
     "output_type": "stream",
     "text": [
      "Current DateTime: 2024-05-06 20:06:59.060338\n",
      "Specific DateTime: 2024-05-10 15:30:00\n"
     ]
    }
   ],
   "source": [
    "# 1. Creating Date-Time Objects\n",
    "now = dt.datetime.now()\n",
    "specific_datetime = dt.datetime(2024, 5, 10, 15, 30)\n",
    "print(\"Current DateTime:\", now)\n",
    "print(\"Specific DateTime:\", specific_datetime)"
   ]
  },
  {
   "cell_type": "code",
   "execution_count": 20,
   "metadata": {},
   "outputs": [
    {
     "name": "stdout",
     "output_type": "stream",
     "text": [
      "Formatted Date: 2024-05-06\n",
      "Formatted Time: 20:06 PM\n",
      "Formatted Full Date and Time: Monday, May 06, 2024 at 20:06\n"
     ]
    }
   ],
   "source": [
    "# 2. Formatting Date-Time Objects\n",
    "formatted_date = now.strftime(\"%Y-%m-%d\")\n",
    "formatted_time = now.strftime(\"%H:%M %p\")\n",
    "formatted_full = now.strftime(\"%A, %B %d, %Y at %H:%M\")\n",
    "print(\"Formatted Date:\", formatted_date)\n",
    "print(\"Formatted Time:\", formatted_time)\n",
    "print(\"Formatted Full Date and Time:\", formatted_full)"
   ]
  },
  {
   "cell_type": "code",
   "execution_count": 21,
   "metadata": {},
   "outputs": [
    {
     "name": "stdout",
     "output_type": "stream",
     "text": [
      "Difference Between Two DateTimes: 234 days, 8:30:00\n",
      "DateTime after adding 10 days: 2024-05-20 15:30:00\n",
      "DateTime after subtracting 5 hours: 2024-05-10 10:30:00\n"
     ]
    }
   ],
   "source": [
    "# 3. Calculating Differences Between Date-Time Objects\n",
    "later_date = dt.datetime(2024, 12, 31)\n",
    "difference = later_date - specific_datetime\n",
    "print(\"Difference Between Two DateTimes:\", difference)\n",
    "\n",
    "# Adding days using timedelta\n",
    "days_added = specific_datetime + dt.timedelta(days=10)\n",
    "print(\"DateTime after adding 10 days:\", days_added)\n",
    "\n",
    "# Subtracting time using timedelta\n",
    "hours_subtracted = specific_datetime - dt.timedelta(hours=5)\n",
    "print(\"DateTime after subtracting 5 hours:\", hours_subtracted)"
   ]
  },
  {
   "cell_type": "code",
   "execution_count": 22,
   "metadata": {},
   "outputs": [
    {
     "name": "stdout",
     "output_type": "stream",
     "text": [
      "Your Age in Years: 24\n"
     ]
    }
   ],
   "source": [
    "# 4. Practical Application: Calculating Age\n",
    "birth_date = dt.datetime(1999, 9, 19)\n",
    "current_date = dt.datetime.now()\n",
    "age_timedelta = current_date - birth_date\n",
    "age_years = age_timedelta.days // 365\n",
    "print(\"Your Age in Years:\", age_years)"
   ]
  },
  {
   "cell_type": "markdown",
   "metadata": {},
   "source": [
    "-----------\n",
    "\n",
    "# ⛏ Exercise: Using date-times in functions"
   ]
  },
  {
   "cell_type": "markdown",
   "metadata": {},
   "source": [
    "It may be that we wish to use date-times within functions. As a warm up exercise write a function is_past_date(year, month, day) that takes a date as input and returns **TRUE** if the date is in the past and **FALSE** if it is in the future."
   ]
  },
  {
   "cell_type": "code",
   "execution_count": 23,
   "metadata": {},
   "outputs": [],
   "source": [
    "# try to solve the task here"
   ]
  },
  {
   "cell_type": "markdown",
   "metadata": {},
   "source": [
    "# ⛏ Exercise: When is the start of time?"
   ]
  },
  {
   "cell_type": "markdown",
   "metadata": {},
   "source": [
    "There may be times where you need to deal with dates that are in the past. Whilst within society the 'beginning of time' is a well debated concept, there is actually a very firm idea within computer science and programming. Investigate what this is and how to encode this in Python."
   ]
  },
  {
   "cell_type": "code",
   "execution_count": 24,
   "metadata": {},
   "outputs": [],
   "source": [
    "# try to solve the task here"
   ]
  }
 ],
 "metadata": {
  "kernelspec": {
   "display_name": "Python 3 (ipykernel)",
   "language": "python",
   "name": "python3"
  },
  "language_info": {
   "codemirror_mode": {
    "name": "ipython",
    "version": 3
   },
   "file_extension": ".py",
   "mimetype": "text/x-python",
   "name": "python",
   "nbconvert_exporter": "python",
   "pygments_lexer": "ipython3",
   "version": "3.9.13"
  }
 },
 "nbformat": 4,
 "nbformat_minor": 2
}

{
 "cells": [
  {
   "cell_type": "markdown",
   "metadata": {},
   "source": [
    "# CDCS Summer School\n",
    "# A Gentle Introduction to Coding for Data Analysis\n",
    "## Session 9: All FOR One, One FOR All"
   ]
  },
  {
   "cell_type": "markdown",
   "metadata": {},
   "source": [
    "---------------\n",
    "\n",
    "### Learning objectives for this session:\n",
    "\n",
    "At the end of this notebook you will know:\n",
    "\n",
    "1. What a 'FOR' loop is and why we use it.\n",
    "2. The need for a 'WHILE' style loop.\n",
    "3. How to implement control statements like 'BREAK' and 'CONTINUE' within loops.\n",
    "4. An introduction to the package 'itertools'."
   ]
  },
  {
   "cell_type": "markdown",
   "metadata": {},
   "source": [
    "--------\n",
    "\n",
    "## 1. What is a 'FOR' loop?"
   ]
  },
  {
   "cell_type": "markdown",
   "metadata": {},
   "source": [
    "The `for` loop in Python is a control flow statement that is used to repeat a block of code a certain number of times or over a sequence. This loop is particularly useful when you know in advance how many times you want to execute a block of code.\n",
    "\n",
    "In the example below, we iterate through a list of coffee orders. Each order is a dictionary that might include the type of coffee, the kind of milk used, and how many sugars are added."
   ]
  },
  {
   "cell_type": "code",
   "execution_count": null,
   "metadata": {},
   "outputs": [],
   "source": [
    "coffee_orders = [\n",
    "    {\"type\": \"Latte\", \"milk\": \"Cow\", \"sugar\": 1},\n",
    "    {\"type\": \"Espresso\", \"milk\": \"None\"},\n",
    "    {\"type\": \"Cappuccino\", \"milk\": \"Almond\", \"sugar\": 0}\n",
    "]\n",
    "\n",
    "for order in coffee_orders:\n",
    "    print(order)"
   ]
  },
  {
   "cell_type": "markdown",
   "metadata": {},
   "source": [
    "When accessing dictionary keys that might not exist in every element (such as 'milk' or 'sugar' in our coffee orders), it's useful to handle potential errors or defaults gracefully. Python's `.get()` method is excellent for this because it allows you to specify a default value if the key is missing."
   ]
  },
  {
   "cell_type": "code",
   "execution_count": null,
   "metadata": {},
   "outputs": [],
   "source": [
    "# Here, we extract and print specific details from each coffee order.\n",
    "for order in coffee_orders:\n",
    "    coffee_type = order['type']\n",
    "    milk_type = order.get('milk', 'No milk')  # Using .get() to provide a default value if 'milk' key is missing\n",
    "    print(f\"Order: {coffee_type}, Milk: {milk_type}\")"
   ]
  },
  {
   "cell_type": "markdown",
   "metadata": {},
   "source": [
    "This loop will print each order's type and milk preference. If an order does not specify the 'milk' key, it defaults to \"No milk\".\n",
    "\n",
    "Next, this segment demonstrates how to preprocess our data by adding default values directly to our dictionaries when certain keys are missing. In this case, we add a default value for 'sugar' if it is not already included in the order. This preprocessing step is vital for ensuring data consistency before performing further operations or analyses."
   ]
  },
  {
   "cell_type": "code",
   "execution_count": null,
   "metadata": {},
   "outputs": [],
   "source": [
    "# Suppose we want to add a default number of sugars if none is specified.\n",
    "for order in coffee_orders:\n",
    "    if 'sugar' not in order:\n",
    "        order['sugar'] = 1  # Adding a default sugar value\n",
    "\n",
    "# Print the updated list to see the changes.\n",
    "for order in coffee_orders:\n",
    "    print(f\"Order: {order['type']}, Sugar: {order['sugar']}\")"
   ]
  },
  {
   "cell_type": "markdown",
   "metadata": {},
   "source": [
    "If we are dealing with more complex nested structures, like lists within dictionaries, 'for' loops are indispensable. This allows us to extract data from complex structures based on some conditions.\n",
    "\n",
    "In this code block, we iterate through a list of dictionaries where each dictionary represents data about a penguin. The loop prints selected information for each penguin, demonstrating how to access multiple fields from dictionaries within a `for` loop."
   ]
  },
  {
   "cell_type": "code",
   "execution_count": null,
   "metadata": {},
   "outputs": [],
   "source": [
    "penguin_data = [\n",
    "    {\"species\": \"Adelie\", \"island\": \"Torgersen\", \"bill_length_mm\": 38.9, \"body_mass_g\": 3750},\n",
    "    {\"species\": \"Chinstrap\", \"island\": \"Dream\", \"bill_length_mm\": 48.7, \"body_mass_g\": 3550},\n",
    "    {\"species\": \"Gentoo\", \"island\": \"Biscoe\", \"bill_length_mm\": 47.2, \"body_mass_g\": 4950}\n",
    "]\n",
    "\n",
    "# Displaying basic information about each penguin\n",
    "for penguin in penguin_data:\n",
    "    print(f\"Species: {penguin['species']}, Island: {penguin['island']}, Body Mass: {penguin['body_mass_g']} grams\")"
   ]
  },
  {
   "cell_type": "code",
   "execution_count": null,
   "metadata": {},
   "outputs": [],
   "source": [
    "# Calculating the average bill length and body mass of the penguins.\n",
    "total_bill_length = 0\n",
    "total_body_mass = 0\n",
    "count = 0\n",
    "\n",
    "for penguin in penguin_data:\n",
    "    total_bill_length += penguin['bill_length_mm']\n",
    "    total_body_mass += penguin['body_mass_g']\n",
    "    count += 1\n",
    "\n",
    "average_bill_length = total_bill_length / count\n",
    "average_body_mass = total_body_mass / count\n",
    "\n",
    "print(f\"Average Bill Length: {average_bill_length:.2f} mm\")\n",
    "print(f\"Average Body Mass: {average_body_mass:.2f} g\")"
   ]
  },
  {
   "cell_type": "code",
   "execution_count": null,
   "metadata": {},
   "outputs": [],
   "source": [
    "# Using 'for' loops to filter penguins by species and print their details.\n",
    "print(\"Details of Gentoo Penguins:\")\n",
    "for penguin in penguin_data:\n",
    "    if penguin['species'] == \"Gentoo\":\n",
    "        print(f\"Island: {penguin['island']}, Bill Length: {penguin['bill_length_mm']} mm, Body Mass: {penguin['body_mass_g']} g\")"
   ]
  },
  {
   "cell_type": "code",
   "execution_count": null,
   "metadata": {},
   "outputs": [],
   "source": [
    "# Safely accessing a key that might not exist in every dictionary.\n",
    "print(\"Penguin Sex Information:\")\n",
    "for penguin in penguin_data:\n",
    "    # Assume 'sex' key may not be present in all records\n",
    "    sex = penguin.get('sex', 'Unknown')\n",
    "    print(f\"Species: {penguin['species']}, Sex: {sex}\")"
   ]
  },
  {
   "cell_type": "markdown",
   "metadata": {},
   "source": [
    "It is important to ensure that you understand the anatomy of function.\n",
    "\n",
    "`for`: The keyword that initiates the loop.\n",
    "\n",
    "`variable`: A temporary variable that holds the value of the item in the sequence during each iteration.\n",
    "\n",
    "`in`: A keyword that is used before the sequence being iterated over.\n",
    "\n",
    "`sequence`: The sequence to iterate over (list, dictionary, tuple, etc.).\n",
    "\n",
    "`:`: The colon that ends the for line.\n",
    "\n",
    "Note that everything within the 'for' loop is then indented. This is also a key part of the syntax."
   ]
  },
  {
   "cell_type": "markdown",
   "metadata": {},
   "source": [
    "----\n",
    "\n",
    "## 2. 'While' style loops.\n",
    "\n",
    "Sometimes we might not have a sequence to iterate through. Instead we may want to keep doing something until a condition is met (or indeed broken). For this we introduce a 'while' style loop."
   ]
  },
  {
   "cell_type": "code",
   "execution_count": null,
   "metadata": {},
   "outputs": [],
   "source": [
    "user_response = ''\n",
    "while user_response.lower() != 'no':\n",
    "    user_response = input(\"Do you want to continue? (yes/no): \")"
   ]
  },
  {
   "cell_type": "code",
   "execution_count": null,
   "metadata": {},
   "outputs": [],
   "source": [
    "# Suppose we collect penguin data in the field and continue until no more penguins are found.\n",
    "penguin_count = 0\n",
    "more_penguins = 'yes'\n",
    "while more_penguins.lower() == 'yes':\n",
    "    penguin_count += 1\n",
    "    more_penguins = input(\"Did you find another penguin? (yes/no): \")\n",
    "\n",
    "print(f\"Total penguins counted: {penguin_count}\")"
   ]
  },
  {
   "cell_type": "code",
   "execution_count": null,
   "metadata": {},
   "outputs": [],
   "source": [
    "# Monitoring the habitat temperature until it falls outside an acceptable range.\n",
    "temperature = 15  # degrees Celsius\n",
    "while 10 <= temperature <= 20:\n",
    "    print(f\"Current temperature is suitable for penguins: {temperature}°C\")\n",
    "    # Create a change in temperature\n",
    "    temperature_change = float(input(\"Enter temperature change: \"))\n",
    "    temperature += temperature_change\n",
    "\n",
    "print(\"Temperature is no longer suitable for penguins.\")"
   ]
  },
  {
   "cell_type": "markdown",
   "metadata": {},
   "source": [
    "We can start to get quite complex with the 'while' loop function. Consider the following example, set in the coffee shop setting as before. Here we have some constraints and want to keep making lattes until there's 'none left'."
   ]
  },
  {
   "cell_type": "code",
   "execution_count": null,
   "metadata": {},
   "outputs": [],
   "source": [
    "coffee_orders = ['Latte', 'Espresso', 'Cappuccino', 'Mocha', 'Latte', 'Latte']\n",
    "available_lattes = 2  # Only two Lattes can be served\n",
    "\n",
    "index = 0\n",
    "while index < len(coffee_orders) and available_lattes > 0:\n",
    "    order = coffee_orders[index]\n",
    "    if order == 'Latte':\n",
    "        if available_lattes > 0:\n",
    "            print(f\"Serving {order}\")\n",
    "            available_lattes -= 1\n",
    "        else:\n",
    "            print(\"No more Lattes available.\")\n",
    "    else:\n",
    "        print(f\"Serving {order}\")\n",
    "    index += 1"
   ]
  },
  {
   "cell_type": "markdown",
   "metadata": {},
   "source": [
    "----\n",
    "\n",
    "## 3. 'Break' and 'Continue' within loops.\n",
    "\n",
    "Sometimes we may not want a loop to continue forever, or to terminate after a certain condition is met. This is where the `break` and `continue` commands come in very useful within a loop.\n",
    "\n",
    "**break**: Used to exit a loop prematurely. It is particularly useful in while loops when an external condition triggers the end of the loop, and in for loops when a specific condition within the loop suggests stopping all operations.\n",
    "\n",
    "**continue**: Skips the current iteration of the loop and proceeds to the next cycle of the loop. This can be used to skip over certain data points or conditions that do not require the same handling as others.\n",
    "\n",
    "```for item in collection:\n",
    "    if some_condition:\n",
    "        break  # Exit the loop\n",
    "    if another_condition:\n",
    "        continue  # Skip to the next iteration```"
   ]
  },
  {
   "cell_type": "code",
   "execution_count": null,
   "metadata": {},
   "outputs": [],
   "source": [
    "coffee_orders = ['Latte', 'Espresso', 'Black Coffee', 'Latte', 'Mocha', 'Espresso']\n",
    "available_espressos = 1\n",
    "\n",
    "for order in coffee_orders:\n",
    "    if order == 'Espresso':\n",
    "        if available_espressos > 0:\n",
    "            print(f\"Serving {order}\")\n",
    "            available_espressos -= 1\n",
    "        else:\n",
    "            print(\"Out of Espresso. Cannot fulfill further orders.\")\n",
    "            break\n",
    "    else:\n",
    "        print(f\"Serving {order}\")"
   ]
  },
  {
   "cell_type": "code",
   "execution_count": null,
   "metadata": {},
   "outputs": [],
   "source": [
    "for order in coffee_orders:\n",
    "    if order == 'Black Coffee':\n",
    "        print(\"Skipping Black Coffee\")\n",
    "        continue\n",
    "    print(f\"Serving {order}\")"
   ]
  },
  {
   "cell_type": "code",
   "execution_count": null,
   "metadata": {},
   "outputs": [],
   "source": [
    "coffee_temp = 70  # initial temperature\n",
    "while True:\n",
    "    print(f\"Current coffee temperature: {coffee_temp} degrees\")\n",
    "    if coffee_temp >= 85:  # Optimal temperature for serving coffee\n",
    "        print(\"Coffee is ready to serve!\")\n",
    "        break\n",
    "    coffee_temp += 5  # simulate the heating process"
   ]
  },
  {
   "cell_type": "code",
   "execution_count": null,
   "metadata": {},
   "outputs": [],
   "source": [
    "coffee_orders = ['Latte', 'Decaf Espresso', 'Cappuccino', 'Decaf Mocha']\n",
    "index = 0\n",
    "while index < len(coffee_orders):\n",
    "    order = coffee_orders[index]\n",
    "    index += 1\n",
    "    if \"Decaf\" in order:\n",
    "        print(f\"Skipping {order}\")\n",
    "        continue\n",
    "    print(f\"Processing {order}\")"
   ]
  },
  {
   "cell_type": "code",
   "execution_count": null,
   "metadata": {},
   "outputs": [],
   "source": [
    "coffee_orders = [('Espresso', 2), ('Latte', 0), ('Black Coffee', 5), ('Espresso', 1)]\n",
    "for beverage, stock in coffee_orders:\n",
    "    while stock > 0:\n",
    "        if beverage == 'Latte' and stock == 0:\n",
    "            print(\"Out of Lattes. Skipping...\")\n",
    "            continue\n",
    "        elif beverage == 'Espresso' and stock == 1:\n",
    "            print(\"Only one Espresso left, processing last order now...\")\n",
    "            print(\"No more Espresso to serve after this.\")\n",
    "            break\n",
    "        print(f\"Serving {beverage}\")\n",
    "        stock -= 1"
   ]
  },
  {
   "cell_type": "code",
   "execution_count": null,
   "metadata": {},
   "outputs": [],
   "source": [
    "penguin_data = [\n",
    "    {\"species\": \"Adelie\", \"island\": \"Torgersen\", \"body_mass_g\": 3750},\n",
    "    {\"species\": \"Gentoo\", \"island\": \"Biscoe\", \"body_mass_g\": 4950},\n",
    "    {\"species\": \"Chinstrap\", \"island\": \"Dream\", \"body_mass_g\": 3550}\n",
    "]\n",
    "\n",
    "for penguin in penguin_data:\n",
    "    if penguin['species'] == 'Chinstrap':\n",
    "        continue  # Skip all Chinstrap penguins\n",
    "    print(f\"Processing data for {penguin['species']} on {penguin['island']}\")"
   ]
  },
  {
   "cell_type": "markdown",
   "metadata": {},
   "source": [
    "----\n",
    "\n",
    "## 4. Using 'itertools' with loops.\n",
    "\n",
    "'itertools' is a package which is automatically installed with Python's standard utility modules and is used for creating and using iterators. It provides a collection of tools for handling iterators efficiently and succinctly --  helping make the Python code faster, more memory-efficient, and cleaner."
   ]
  },
  {
   "cell_type": "code",
   "execution_count": 2,
   "metadata": {},
   "outputs": [],
   "source": [
    "# Although the package is installed with Python by default, we still need to import it.\n",
    "import itertools"
   ]
  },
  {
   "cell_type": "code",
   "execution_count": null,
   "metadata": {},
   "outputs": [],
   "source": [
    "orders_day1 = ['Espresso', 'Latte']\n",
    "orders_day2 = ['Cappuccino', 'Mocha']\n",
    "all_orders = itertools.chain(orders_day1, orders_day2)\n",
    "\n",
    "for order in all_orders:\n",
    "    print(order)"
   ]
  },
  {
   "cell_type": "code",
   "execution_count": null,
   "metadata": {},
   "outputs": [],
   "source": [
    "count = 0\n",
    "for item in itertools.cycle(['yes', 'no']):\n",
    "    if count > 5:  # prevent infinite loop for demonstration\n",
    "        break\n",
    "    print(item)\n",
    "    count += 1"
   ]
  },
  {
   "cell_type": "markdown",
   "metadata": {},
   "source": [
    "**Don't panic point!**\n",
    "\n",
    "Below you will see some new notation, that is introduced by the `itertools` package. This is known as lambda notation. We use this, as a different form of shorthand for looping through a list. Have a look at the example below and see if you can work out what it is doing..."
   ]
  },
  {
   "cell_type": "code",
   "execution_count": 9,
   "metadata": {},
   "outputs": [
    {
     "name": "stdout",
     "output_type": "stream",
     "text": [
      "Adelie [('penguin', 'Adelie')]\n",
      "Chinstrap [('penguin', 'Chinstrap')]\n",
      "Adelie [('penguin', 'Adelie')]\n"
     ]
    }
   ],
   "source": [
    "data = [('penguin', 'Adelie'), ('penguin', 'Chinstrap'), ('penguin', 'Adelie')]\n",
    "for penguin_type, entry in itertools.groupby(sorted(data), lambda x: x[1]):  # Sort needed for meaningful grouping\n",
    "    print(penguin_type, list(entry))"
   ]
  },
  {
   "cell_type": "markdown",
   "metadata": {},
   "source": [
    "The way to read the lambda notation is, for each object (in this case a list) that lambda can take, pick the second -- notated in Python as 1, since Python begins counting at 0 -- entry and apply the function to it, here `sorted()`."
   ]
  },
  {
   "cell_type": "code",
   "execution_count": 16,
   "metadata": {},
   "outputs": [
    {
     "name": "stdout",
     "output_type": "stream",
     "text": [
      "AB\n",
      "AC\n",
      "BA\n",
      "BC\n",
      "CA\n",
      "CB\n"
     ]
    }
   ],
   "source": [
    "for perm in itertools.permutations(['A', 'B', 'C'], 2):\n",
    "    print(''.join(perm))"
   ]
  },
  {
   "cell_type": "markdown",
   "metadata": {},
   "source": [
    "------\n",
    "\n",
    "## ⭐️⭐️⭐️💥 What you learned in this session: Three stars and a wish.\n",
    "**In your own words** write in the Markdown cell below:\n",
    "\n",
    "- 3 things you would like to remember from this notebook.\n",
    "- 1 thing you wish to understand better in the future or a question you'd like to ask."
   ]
  },
  {
   "cell_type": "markdown",
   "metadata": {},
   "source": [
    "*Add your reflections here.*"
   ]
  },
  {
   "cell_type": "markdown",
   "metadata": {},
   "source": [
    "--------------\n",
    "\n",
    "## Topic Overview"
   ]
  },
  {
   "cell_type": "code",
   "execution_count": null,
   "metadata": {},
   "outputs": [],
   "source": [
    "# For loops can be used to iterate over a collection of things in a list.\n",
    "# Print each penguin species from a list\n",
    "penguin_species = ['Adelie', 'Chinstrap', 'Gentoo']\n",
    "for species in penguin_species:\n",
    "    print(species)"
   ]
  },
  {
   "cell_type": "code",
   "execution_count": null,
   "metadata": {},
   "outputs": [],
   "source": [
    "# Alternatively we can use a while loop to repeat a processs until a condition is met (or breached)\n",
    "# Keep serving coffee until all orders are processed\n",
    "coffee_orders = ['Espresso', 'Latte']\n",
    "index = 0\n",
    "while index < len(coffee_orders):\n",
    "    print(f\"Serving {coffee_orders[index]}\")\n",
    "    index += 1"
   ]
  },
  {
   "cell_type": "code",
   "execution_count": null,
   "metadata": {},
   "outputs": [],
   "source": [
    "# It is possible to manipulate our loops to stop and continue based on some condition too.\n",
    "# Skip serving 'Latte' and break after serving 'Espresso'\n",
    "for order in ['Espresso', 'Latte', 'Mocha']:\n",
    "    if order == 'Latte':\n",
    "        continue\n",
    "    print(f\"Serving {order}\")\n",
    "    if order == 'Espresso':\n",
    "        break"
   ]
  },
  {
   "cell_type": "code",
   "execution_count": null,
   "metadata": {},
   "outputs": [],
   "source": [
    "# itertools is a built in package which can aid looping.\n",
    "import itertools\n",
    "# Chain multiple lists of coffee orders together\n",
    "orders_day1 = ['Espresso', 'Cappuccino']\n",
    "orders_day2 = ['Latte', 'Flat White']\n",
    "for order in itertools.chain(orders_day1, orders_day2):\n",
    "    print(order)"
   ]
  },
  {
   "cell_type": "markdown",
   "metadata": {},
   "source": [
    "----\n",
    "\n",
    "# ⛏ Exercise: Group the penguins.\n",
    "\n",
    "You are tasked with analyzing a dataset of penguin observations. Your goal is to group the penguins by species, then for each group, summarize the data, including counting members and identifying if any members exceed certain size thresholds.\n",
    "\n",
    "- Use itertools.groupby() to group penguin data by species.\n",
    "- Use a 'for' loop to process each group, applying continue to skip over any data entries that are incomplete or improperly formatted.\n",
    "- Use nested loops to process each penguin in the groups, summarizing data."
   ]
  },
  {
   "cell_type": "code",
   "execution_count": null,
   "metadata": {},
   "outputs": [],
   "source": [
    "penguins = [\n",
    "    {'species': 'Adelie', 'bill_length_mm': 39.1, 'body_mass_g': 3750},\n",
    "    {'species': 'Gentoo', 'bill_length_mm': 47.2, 'body_mass_g': 4975},\n",
    "    {'species': 'Adelie', 'bill_length_mm': 38.5, 'body_mass_g': 3500},\n",
    "    {'species': 'Gentoo', 'bill_length_mm': None, 'body_mass_g': 4500},  # Incomplete data\n",
    "]"
   ]
  },
  {
   "cell_type": "code",
   "execution_count": null,
   "metadata": {},
   "outputs": [],
   "source": [
    "# try to solve the task here"
   ]
  },
  {
   "cell_type": "markdown",
   "metadata": {},
   "source": [
    "# ⛏ Exercise: Dance Monkey\n",
    "\n",
    "Earlier this week we saw functions put to use in recreating the penguin song. Legend has it that long before penguins were singing, monkeys were dancing. In this exercise investigate the lyrics of the song 'Dance Monkey' by Tones and I. With this song try to identify where using a loop may help in printing sections of the song. Maybe attempt to do this in multiple ways with both 'for' and 'while' loops."
   ]
  },
  {
   "cell_type": "code",
   "execution_count": null,
   "metadata": {},
   "outputs": [],
   "source": [
    "# try to solve the task here"
   ]
  }
 ],
 "metadata": {
  "kernelspec": {
   "display_name": "Python 3 (ipykernel)",
   "language": "python",
   "name": "python3"
  },
  "language_info": {
   "codemirror_mode": {
    "name": "ipython",
    "version": 3
   },
   "file_extension": ".py",
   "mimetype": "text/x-python",
   "name": "python",
   "nbconvert_exporter": "python",
   "pygments_lexer": "ipython3",
   "version": "3.9.15"
  }
 },
 "nbformat": 4,
 "nbformat_minor": 2
}

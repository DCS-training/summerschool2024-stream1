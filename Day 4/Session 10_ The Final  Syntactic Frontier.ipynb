{
 "cells": [
  {
   "cell_type": "markdown",
   "metadata": {},
   "source": [
    "# CDCS Summer School\n",
    "# A Gentle Introduction to Coding for Data Analysis\n",
    "## Session 10: The Final Syntactic Frontier"
   ]
  },
  {
   "cell_type": "markdown",
   "metadata": {},
   "source": [
    "---------------\n",
    "\n",
    "### Learning objectives for this session:\n",
    "\n",
    "At the end of this notebook you will know:\n",
    "\n",
    "1. A recap on lists, functions and loops.\n",
    "2. How to use functions, loops and lists together.\n",
    "3. Why we need to sometimes use 'try-except' blocks.\n",
    "4. A bit about computational efficiency and why it is important to consider."
   ]
  },
  {
   "cell_type": "markdown",
   "metadata": {},
   "source": [
    "--------\n",
    "\n",
    "## 1. Recapping lists, functions and loops."
   ]
  },
  {
   "cell_type": "markdown",
   "metadata": {},
   "source": [
    "It has been a very long week so far -- you are doing great! Let us try and bring together some of the most important concepts so far. Below we'll look to recap lists, functions and loops. This is all in the context of penguins ready for the rest of the week, all about data!\n",
    "\n",
    "Here, we create a simple list containing penguin species and another list with flipper lengths. We demonstrate how to access elements in a list, which is one of the most basic operations in list manipulation. Accessing list elements by index allows us to retrieve specific data points from a dataset."
   ]
  },
  {
   "cell_type": "code",
   "execution_count": null,
   "metadata": {},
   "outputs": [],
   "source": [
    "# List of penguin species\n",
    "species = ['Adelie', 'Chinstrap', 'Gentoo']\n",
    "\n",
    "# List of flipper lengths (in mm)\n",
    "flipper_lengths = [181, 195, 210, 182, 191, 213]\n",
    "\n",
    "# Display the first species and the first flipper length\n",
    "print(\"First species:\", species[0])\n",
    "print(\"First flipper length:\", flipper_lengths[0])"
   ]
  },
  {
   "cell_type": "markdown",
   "metadata": {},
   "source": [
    "Functions are vital for code reusability and organisation. Here, we define a function to calculate the average of numerical data. This type of function is useful when you need to perform statistical analysis on data, such as finding the average flipper length of penguins. This demonstrates how functions can encapsulate logic that can be repeatedly applied to different data sets."
   ]
  },
  {
   "cell_type": "code",
   "execution_count": null,
   "metadata": {},
   "outputs": [],
   "source": [
    "# Function to calculate the average of a list\n",
    "def average(data):\n",
    "    return sum(data) / len(data)\n",
    "\n",
    "# Calculate the average flipper length\n",
    "avg_flipper_length = average(flipper_lengths)\n",
    "print(\"Average flipper length:\", avg_flipper_length)"
   ]
  },
  {
   "cell_type": "markdown",
   "metadata": {},
   "source": [
    "Loops allow us to automate repetitive tasks, such as processing each item in a list. Here, we use a `for` loop to iterate over the species list and print each one. This is a common pattern when dealing with data, allowing us to apply operations to each element of a dataset systematically."
   ]
  },
  {
   "cell_type": "code",
   "execution_count": null,
   "metadata": {},
   "outputs": [],
   "source": [
    "# Print each species in the species list\n",
    "for s in species:\n",
    "    print(\"Species:\", s)"
   ]
  },
  {
   "cell_type": "markdown",
   "metadata": {},
   "source": [
    "Python's list comprehensions provide a concise way to create lists. They are often more readable and efficient than using a loop to create a list. In this example, we filter flipper lengths to include only those greater than 190 mm, demonstrating a common data filtering operation."
   ]
  },
  {
   "cell_type": "code",
   "execution_count": null,
   "metadata": {},
   "outputs": [],
   "source": [
    "# List flipper lengths greater than 190 mm using list comprehension\n",
    "long_flippers = [length for length in flipper_lengths if length > 190]\n",
    "print(\"Flipper lengths greater than 190 mm:\", long_flippers)"
   ]
  },
  {
   "cell_type": "markdown",
   "metadata": {},
   "source": [
    "Modifying data in a list directly within a loop is a frequent necessity in data processing. Here, we increment each flipper length by 5 mm, simulating an adjustment or calibration of measurement data. This kind of operation shows how loops can be used to modify data in place."
   ]
  },
  {
   "cell_type": "code",
   "execution_count": null,
   "metadata": {},
   "outputs": [],
   "source": [
    "# Increase each flipper length by 5 mm\n",
    "for i in range(len(flipper_lengths)):\n",
    "    flipper_lengths[i] += 5\n",
    "\n",
    "print(\"Updated flipper lengths:\", flipper_lengths)"
   ]
  },
  {
   "cell_type": "markdown",
   "metadata": {},
   "source": [
    "----\n",
    "\n",
    "## 2. Using functions, loops and lists together."
   ]
  },
  {
   "cell_type": "markdown",
   "metadata": {},
   "source": [
    "Building on our basic understanding of lists, functions, and loops, we now explore how to effectively combine these tools to perform more complex data processing tasks. This integration is crucial for efficiently managing and analysing data, particularly in scenarios that simulate real-world challenges like those found in the Palmer Penguins dataset.\n",
    "\n",
    "First, we'll look at how functions can be used to modify lists. Here, we create a function to 'normalise' data, a common preprocessing step in data analysis. This function adjusts each flipper length by subtracting the minimum length in the list, which can help in standardizing measurements for comparison."
   ]
  },
  {
   "cell_type": "code",
   "execution_count": null,
   "metadata": {},
   "outputs": [],
   "source": [
    "# Function to normalize flipper lengths (subtract the minimum length)\n",
    "def normalize_lengths(lengths):\n",
    "    min_length = min(lengths)\n",
    "    normalized = [length - min_length for length in lengths]\n",
    "    return normalized\n",
    "\n",
    "# Normalize flipper lengths\n",
    "normalized_lengths = normalize_lengths(flipper_lengths)\n",
    "print(\"Normalized flipper lengths:\", normalized_lengths)"
   ]
  },
  {
   "cell_type": "markdown",
   "metadata": {},
   "source": [
    "### Filtering Data Using Functions and Loops\n",
    "\n",
    "Next, we demonstrate how to use functions and loops together to filter data. This approach is useful for extracting subsets of data based on specific criteria, such as selecting penguins observed in a particular time of day or having certain characteristics. Here, the function filters out flipper lengths that are above the average, showcasing a typical use case in data analysis for isolating significant outliers or specific data points."
   ]
  },
  {
   "cell_type": "code",
   "execution_count": null,
   "metadata": {},
   "outputs": [],
   "source": [
    "# Function to filter flipper lengths that are above the average\n",
    "def filter_above_average(lengths):\n",
    "    avg = average(lengths)  # Using the average function defined earlier\n",
    "    return [length for length in lengths if length > avg]\n",
    "\n",
    "# Filter flipper lengths\n",
    "filtered_lengths = filter_above_average(flipper_lengths)\n",
    "print(\"Filtered flipper lengths above average:\", filtered_lengths)"
   ]
  },
  {
   "cell_type": "markdown",
   "metadata": {},
   "source": [
    "### Using Functions to Process and Categorize List Items in a Loop\n",
    "\n",
    "Integrating loops, with functions, allows us to categorise or modify each item in a list systematically. In this example, we categorise penguins based on their body mass, a typical task in data processing that involves applying a classification rule across a dataset. This method is instrumental in preparing data for further analysis or reporting."
   ]
  },
  {
   "cell_type": "code",
   "execution_count": null,
   "metadata": {},
   "outputs": [],
   "source": [
    "# Function to categorize body mass\n",
    "def categorize_mass(mass):\n",
    "    if mass > 5000:\n",
    "        return 'Heavy'\n",
    "    elif mass > 3000:\n",
    "        return 'Moderate'\n",
    "    else:\n",
    "        return 'Light'\n",
    "\n",
    "# List of body masses (in grams)\n",
    "body_masses = [4500, 3800, 3200, 2900, 5500, 6100]\n",
    "\n",
    "# Categorize each body mass\n",
    "mass_categories = [categorize_mass(mass) for mass in body_masses]\n",
    "print(\"Body mass categories:\", mass_categories)"
   ]
  },
  {
   "cell_type": "markdown",
   "metadata": {},
   "source": [
    "### Aggregating Data from Lists Using Loops and Functions\n",
    "\n",
    "Data aggregation is a critical function in data science, often requiring the integration of loops and functions to compile statistics or metrics from data. Here, we create a function to count occurrences of each species in a list. This example highlights how functions can encapsulate the logic for counting, while loops iterate over the dataset to apply this logic, providing a clear summary of data."
   ]
  },
  {
   "cell_type": "code",
   "execution_count": null,
   "metadata": {},
   "outputs": [],
   "source": [
    "# Function to count occurrences of each species\n",
    "def count_species(species_list):\n",
    "    species_count = {}\n",
    "    for spec in species_list:\n",
    "        if spec in species_count:\n",
    "            species_count[spec] += 1\n",
    "        else:\n",
    "            species_count[spec] = 1\n",
    "    return species_count\n",
    "\n",
    "# List of species observed\n",
    "species_observations = ['Adelie', 'Chinstrap', 'Gentoo', 'Adelie', 'Adelie', 'Gentoo']\n",
    "\n",
    "# Count each species\n",
    "species_counts = count_species(species_observations)\n",
    "print(\"Species counts:\", species_counts)"
   ]
  },
  {
   "cell_type": "markdown",
   "metadata": {},
   "source": [
    "### Nested Loops for Data Comparisons\n",
    "\n",
    "Nested loops are particularly useful when you need to perform operations that require comparing or combining elements from two different lists or datasets. This technique is essential in many data processing tasks, such as finding matches or correlations between different data points.\n",
    "\n",
    "In this example, we use nested loops to find all matches between two lists of species. This kind of operation is common in many fields, including bioinformatics, ecology, and general data science, where you might need to cross-reference or match datasets against each other to find commonalities or relationships."
   ]
  },
  {
   "cell_type": "code",
   "execution_count": null,
   "metadata": {},
   "outputs": [],
   "source": [
    "# Function to find all matches between two lists of species\n",
    "def find_matches(list1, list2):\n",
    "    matches = []\n",
    "    for item1 in list1:\n",
    "        for item2 in list2:\n",
    "            if item1 == item2 and item1 not in matches:\n",
    "                matches.append(item1)\n",
    "    return matches\n",
    "\n",
    "# Another list of species for matching\n",
    "additional_species = ['Gentoo', 'Adelie', 'Emperor']\n",
    "\n",
    "# Find matches\n",
    "matching_species = find_matches(species_observations, additional_species)\n",
    "print(\"Matching species:\", matching_species)"
   ]
  },
  {
   "cell_type": "markdown",
   "metadata": {},
   "source": [
    "This function demonstrates the power and utility of nested loops in data analysis:\n",
    "\n",
    "- Outer Loop: Iterates over each species in the first list (`species_observations`).\n",
    "- Inner Loop: For each species in the outer loop, the inner loop iterates over each species in the second list (`additional_species`).\n",
    "- Conditional Check: Inside the inner loop, we check if the species from the first list matches any species in the second list and if it is not already included in the matches list to avoid duplicates.\n",
    "- Appending Matches: If a match is found and it is unique, it is appended to the matches list."
   ]
  },
  {
   "cell_type": "markdown",
   "metadata": {},
   "source": [
    "----\n",
    "\n",
    "## 3. Try-except blocks."
   ]
  },
  {
   "cell_type": "markdown",
   "metadata": {},
   "source": [
    "In this section, we'll explore how using `try-except` blocks can help us manage errors more gracefully in our Python programs. Error handling is a critical part of developing robust code, especially when processing uncertain or variable data like that found across the arts and humanities sphere.\n",
    "\n",
    "We start by addressing a common error in data processing: division by zero. This type of error can occur when calculating ratios or percentages, especially if the data has not been fully cleaned or validated. Proper handling of this error is essential to maintain the integrity of your data analysis processes."
   ]
  },
  {
   "cell_type": "code",
   "execution_count": null,
   "metadata": {},
   "outputs": [],
   "source": [
    "# Function to calculate the ratio of flipper length to body mass\n",
    "def flipper_body_ratio(flipper_length, body_mass):\n",
    "    try:\n",
    "        ratio = flipper_length / body_mass\n",
    "    except ZeroDivisionError:\n",
    "        ratio = None  # Assign a None value if body mass is zero\n",
    "    return ratio\n",
    "\n",
    "# Example data\n",
    "flipper_length_example = 210\n",
    "body_mass_example = 0  # This might be a data entry error\n",
    "\n",
    "# Calculate ratio\n",
    "ratio_result = flipper_body_ratio(flipper_length_example, body_mass_example)\n",
    "print(\"Flipper to body mass ratio:\", ratio_result)"
   ]
  },
  {
   "cell_type": "markdown",
   "metadata": {},
   "source": [
    "In this code, the `try-except` block is used to catch the `ZeroDivisionError`. If the error occurs (due to a body mass of zero in this case), the function returns `None` instead of crashing the program. This approach ensures that your data processing can continue even if some data points are flawed."
   ]
  },
  {
   "cell_type": "markdown",
   "metadata": {},
   "source": [
    "### Handling Index Errors in Lists\n",
    "\n",
    "Next, we address another frequent issue when dealing with lists: index errors. These errors happen when trying to access elements at non-existing indexes, which is a common mistake during data manipulation."
   ]
  },
  {
   "cell_type": "code",
   "execution_count": null,
   "metadata": {},
   "outputs": [],
   "source": [
    "# Function to safely retrieve an element from a list by index\n",
    "def safe_access(data_list, index):\n",
    "    try:\n",
    "        return data_list[index]\n",
    "    except IndexError:\n",
    "        return \"Index out of range\"\n",
    "\n",
    "# Example list of penguin species\n",
    "species = ['Adelie', 'Chinstrap', 'Gentoo']\n",
    "\n",
    "# Attempt to access an out-of-range index\n",
    "print(\"Accessing fifth element:\", safe_access(species, 4))"
   ]
  },
  {
   "cell_type": "markdown",
   "metadata": {},
   "source": [
    "### Handling Type Errors\n",
    "\n",
    "Type errors can disrupt a program when unexpected data types are used in operations, such as multiplying a number by a string. Handling these errors is crucial for data integrity and user experience."
   ]
  },
  {
   "cell_type": "code",
   "execution_count": null,
   "metadata": {},
   "outputs": [],
   "source": [
    "# Function to multiply flipper length by a factor (must be a number)\n",
    "def multiply_flipper_length(length, factor):\n",
    "    try:\n",
    "        return length * factor\n",
    "    except TypeError:\n",
    "        return \"Factor must be a number\"\n",
    "\n",
    "# Example usage\n",
    "print(\"Correct factor:\", multiply_flipper_length(210, 2))\n",
    "print(\"Incorrect factor:\", multiply_flipper_length(210, 'two'))"
   ]
  },
  {
   "cell_type": "markdown",
   "metadata": {},
   "source": [
    "### Handling Errors in Data Conversion\n",
    "\n",
    "Data conversion errors are common when processing data that comes from varied sources, such as user input or external files. Incorrect data types can lead to `ValueError`, which can disrupt data processing if not properly handled."
   ]
  },
  {
   "cell_type": "code",
   "execution_count": null,
   "metadata": {},
   "outputs": [],
   "source": [
    "# Function to convert string data to integer\n",
    "def convert_to_integer(data):\n",
    "    try:\n",
    "        return int(data)\n",
    "    except ValueError:\n",
    "        return \"Invalid input: cannot convert to integer\"\n",
    "\n",
    "# Example data (might be fetched from a CSV file as strings)\n",
    "data_entries = ['3500', '4100', 'unknown']\n",
    "\n",
    "# Convert data and handle errors\n",
    "converted_data = [convert_to_integer(entry) for entry in data_entries]\n",
    "print(\"Converted data:\", converted_data)"
   ]
  },
  {
   "cell_type": "markdown",
   "metadata": {},
   "source": [
    "### Using Finally for Cleanup Actions\n",
    "\n",
    "Finally blocks are used to execute code after try-except blocks, regardless of whether an exception was raised. This is particularly useful for cleanup actions, such as closing files, ensuring that these actions occur no matter what happens in the try and except blocks."
   ]
  },
  {
   "cell_type": "code",
   "execution_count": null,
   "metadata": {},
   "outputs": [],
   "source": [
    "# Function to process data with a cleanup action\n",
    "def process_data(data):\n",
    "    try:\n",
    "        result = [int(d) for d in data]  # Attempt to convert all entries to integers\n",
    "    except ValueError:\n",
    "        result = \"Error processing data\"\n",
    "    finally:\n",
    "        print(\"Cleanup actions can be performed here.\")\n",
    "    return result\n",
    "\n",
    "# Example data with a possible error\n",
    "data_example = ['3000', '4500', 'five thousand']\n",
    "processed_data = process_data(data_example)\n",
    "print(\"Processed data:\", processed_data)"
   ]
  },
  {
   "cell_type": "markdown",
   "metadata": {},
   "source": [
    "Using `try-except` blocks allows us to handle unexpected errors gracefully, maintaining the integrity and continuity of our programs. Proper error handling is especially important in data science, where real-world data often includes anomalies and irregularities."
   ]
  },
  {
   "cell_type": "markdown",
   "metadata": {},
   "source": [
    "----\n",
    "\n",
    "## 4. Computational efficiency."
   ]
  },
  {
   "cell_type": "markdown",
   "metadata": {},
   "source": [
    "This section delves into the concept of computational efficiency, which encompasses both time complexity and space complexity. Efficient coding practices are essential for handling large datasets effectively, reducing runtime and memory usage, and ultimately improving the performance of software applications.\n",
    "\n",
    "As a note, this section becomes quite technical and mathematical. The concepts here are important to be aware of, but not the be-all-and-end-all of programming. So give it a go and if it doesn't sink in the first time, that's ok!"
   ]
  },
  {
   "cell_type": "markdown",
   "metadata": {},
   "source": [
    "### What is time complexity?\n",
    "\n",
    "Time complexity refers to the amount of time it takes to run an algorithm as a function of the length of the input. Understanding this helps predict how algorithms will perform as datasets grow larger. For instance, an algorithm that works well for small data might become impractically slow when applied to larger datasets, such as those commonly found in data science. There are some handy things to know when judging time complexity:\n",
    "\n",
    "- Linear Time (O(n)): A loop over n items that performs a fixed amount of work for each item. This means we can just add the time is takes for one thing to happen in the loop n-times.\n",
    "\n",
    "- Quadratic Time (O(n²)): Nested loops over the same dataset, like comparing each item with every other item. This type of time is bad as it scales **exponentially** and gets very slow very quick."
   ]
  },
  {
   "cell_type": "code",
   "execution_count": null,
   "metadata": {},
   "outputs": [],
   "source": [
    "import time\n",
    "\n",
    "# Generate a list of numbers\n",
    "data = list(range(1, 1001))\n",
    "\n",
    "# Linear time algorithm: summing all elements\n",
    "start_time = time.time()\n",
    "total_sum = sum(data)\n",
    "end_time = time.time()\n",
    "print(\"Linear time - Total sum:\", total_sum)\n",
    "print(\"Execution time (linear):\", end_time - start_time)\n",
    "\n",
    "# Quadratic time algorithm: sum of products of all pairs\n",
    "start_time = time.time()\n",
    "total_sum_pairs = 0\n",
    "for i in data:\n",
    "    for j in data:\n",
    "        total_sum_pairs += i * j\n",
    "end_time = time.time()\n",
    "print(\"Quadratic time - Total sum of pairs:\", total_sum_pairs)\n",
    "print(\"Execution time (quadratic):\", end_time - start_time)"
   ]
  },
  {
   "cell_type": "markdown",
   "metadata": {},
   "source": [
    "### What is space complexity?\n",
    "\n",
    "Space complexity deals with the amount of memory an algorithm needs to run. This becomes crucial when dealing with large datasets where inefficient memory use can lead to excessive resource consumption, slowing down or even halting processes. Efficient data handling and structures can significantly reduce a program’s memory footprint.\n",
    "\n",
    "Different data structures are suited to different tasks and can drastically affect the performance of a program. For example, accessing elements in a list is fast, but adding elements to a list can be slow if it involves copying large amounts of data to new memory locations. Structures like dictionaries and sets offer faster lookups under certain conditions and can be more efficient."
   ]
  },
  {
   "cell_type": "code",
   "execution_count": null,
   "metadata": {},
   "outputs": [],
   "source": [
    "import time\n",
    "\n",
    "# List of species with duplicates\n",
    "species_list = ['Adelie'] * 500 + ['Chinstrap'] * 500 + ['Gentoo'] * 500\n",
    "\n",
    "# Checking for duplicates using a list\n",
    "start_time = time.time()\n",
    "duplicates = len(species_list) != len(set(species_list))\n",
    "end_time = time.time()\n",
    "print(\"Using a set to check duplicates:\", duplicates)\n",
    "print(\"Execution time (set):\", end_time - start_time)\n",
    "\n",
    "# Inserting and checking for duplicates using a list\n",
    "start_time = time.time()\n",
    "seen_species = []\n",
    "for species in species_list:\n",
    "    if species in seen_species:\n",
    "        duplicates = True\n",
    "        break\n",
    "    seen_species.append(species)\n",
    "end_time = time.time()\n",
    "print(\"Using a list to check duplicates:\", duplicates)\n",
    "print(\"Execution time (list):\", end_time - start_time)"
   ]
  },
  {
   "cell_type": "markdown",
   "metadata": {},
   "source": [
    "------\n",
    "\n",
    "## ⭐️⭐️⭐️💥 What you learned in this session: Three stars and a wish.\n",
    "**In your own words** write in the Markdown cell below:\n",
    "\n",
    "- 3 things you would like to remember from this notebook.\n",
    "- 1 thing you wish to understand better in the future or a question you'd like to ask."
   ]
  },
  {
   "cell_type": "markdown",
   "metadata": {},
   "source": [
    "*Add your reflections here.*"
   ]
  },
  {
   "cell_type": "markdown",
   "metadata": {},
   "source": [
    "--------------\n",
    "\n",
    "## Topic Overview"
   ]
  },
  {
   "cell_type": "code",
   "execution_count": null,
   "metadata": {},
   "outputs": [],
   "source": [
    "# Function to categorize body mass\n",
    "def categorize_mass(mass):\n",
    "    if mass > 5000:\n",
    "        return 'Heavy'\n",
    "    elif mass > 3000:\n",
    "        return 'Moderate'\n",
    "    else:\n",
    "        return 'Light'\n",
    "\n",
    "# List of body masses and applying the function\n",
    "body_masses = [4500, 3800, 3200, 2900, 5500, 6100]\n",
    "mass_categories = [categorize_mass(mass) for mass in body_masses]\n",
    "print(\"Body mass categories:\", mass_categories)"
   ]
  },
  {
   "cell_type": "code",
   "execution_count": null,
   "metadata": {},
   "outputs": [],
   "source": [
    "# Normalize flipper lengths\n",
    "def normalize_lengths(lengths):\n",
    "    min_length = min(lengths)\n",
    "    return [length - min_length for length in lengths]\n",
    "\n",
    "flipper_lengths = [181, 195, 210, 182, 191, 213]\n",
    "normalized_lengths = normalize_lengths(flipper_lengths)\n",
    "print(\"Normalized flipper lengths:\", normalized_lengths)="
   ]
  },
  {
   "cell_type": "code",
   "execution_count": null,
   "metadata": {},
   "outputs": [],
   "source": [
    "# Function to safely convert string data to integer\n",
    "def convert_to_integer(data):\n",
    "    try:\n",
    "        return int(data)\n",
    "    except ValueError:\n",
    "        return \"Invalid input: cannot convert to integer\"\n",
    "\n",
    "data_entries = ['3500', '4100', 'unknown']\n",
    "converted_data = [convert_to_integer(entry) for entry in data_entries]\n",
    "print(\"Converted data:\", converted_data)"
   ]
  },
  {
   "cell_type": "markdown",
   "metadata": {},
   "source": [
    "-----------\n",
    "\n",
    "# ⛏ Exercise: Process the Penguins\n",
    "\n",
    "Imagine you are provided with a dataset containing information about a group of penguins. The data for each penguin includes species, island, flipper length, body mass, and whether the penguin was observed in the morning or evening. The dataset is represented as a list of dictionaries, where each dictionary corresponds to a single penguin."
   ]
  },
  {
   "cell_type": "code",
   "execution_count": null,
   "metadata": {},
   "outputs": [],
   "source": [
    "penguins_data = [\n",
    "    {'species': 'Adelie', 'island': 'Torgersen', 'flipper_length': 181, 'body_mass': 3750, 'time_of_day': 'morning'},\n",
    "    {'species': 'Chinstrap', 'island': 'Dream', 'flipper_length': 195, 'body_mass': 3800, 'time_of_day': 'evening'},\n",
    "    {'species': 'Gentoo', 'island': 'Biscoe', 'flipper_length': 210, 'body_mass': 5000, 'time_of_day': 'morning'},\n",
    "    {'species': 'Adelie', 'island': 'Torgersen', 'flipper_length': 186, 'body_mass': 3200, 'time_of_day': 'evening'},\n",
    "    {'species': 'Gentoo', 'island': 'Biscoe', 'flipper_length': 222, 'body_mass': 5200, 'time_of_day': 'morning'},\n",
    "]"
   ]
  },
  {
   "cell_type": "markdown",
   "metadata": {},
   "source": [
    "1. Data Filtering Function:\n",
    "Start by writing a function to filter penguins by species and time_of_day. The function should return a list of dictionaries for penguins matching both criteria."
   ]
  },
  {
   "cell_type": "code",
   "execution_count": null,
   "metadata": {},
   "outputs": [],
   "source": [
    "# try to solve the task here"
   ]
  },
  {
   "cell_type": "markdown",
   "metadata": {},
   "source": [
    "2. Data Processing Function:\n",
    "Write a function to calculate the average flipper length and body mass for a given list of penguin data. Ensure your function is robust against potential errors like division by zero or missing data keys."
   ]
  },
  {
   "cell_type": "code",
   "execution_count": null,
   "metadata": {},
   "outputs": [],
   "source": [
    "# try to solve the task here"
   ]
  },
  {
   "cell_type": "markdown",
   "metadata": {},
   "source": [
    "# ⛏ Exercise: Considering quadratic time\n",
    "\n",
    "Discuss, with your partner, the impact of quadratic time complexity when processing large datasets, such as those with thousands of penguins and their attributes. Think about how nested loops can affect performance and what alternatives might exist, such as using more efficient algorithms or data structures."
   ]
  },
  {
   "cell_type": "markdown",
   "metadata": {},
   "source": [
    "*write your thoughts here.*"
   ]
  }
 ],
 "metadata": {
  "kernelspec": {
   "display_name": "Python 3 (ipykernel)",
   "language": "python",
   "name": "python3"
  },
  "language_info": {
   "codemirror_mode": {
    "name": "ipython",
    "version": 3
   },
   "file_extension": ".py",
   "mimetype": "text/x-python",
   "name": "python",
   "nbconvert_exporter": "python",
   "pygments_lexer": "ipython3",
   "version": "3.9.13"
  }
 },
 "nbformat": 4,
 "nbformat_minor": 2
}

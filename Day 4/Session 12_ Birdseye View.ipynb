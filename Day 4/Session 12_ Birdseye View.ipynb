{
 "cells": [
  {
   "cell_type": "markdown",
   "metadata": {},
   "source": [
    "# CDCS Summer School\n",
    "# A Gentle Introduction to Coding for Data Analysis\n",
    "## Session 12: Birdseye View"
   ]
  },
  {
   "cell_type": "markdown",
   "metadata": {},
   "source": [
    "---------------\n",
    "\n",
    "### Learning objectives for this session:\n",
    "\n",
    "At the end of this notebook you will know:\n",
    "\n",
    "1. Understand how to summarise data using descriptive statistics.\n",
    "2. Learn to group data and perform aggregate operations.\n",
    "3. Master the use of value counts and unique values.\n",
    "4. Explore the use of cross-tabulations and pivot tables."
   ]
  },
  {
   "cell_type": "markdown",
   "metadata": {},
   "source": [
    "--------\n",
    "\n",
    "## 1. How do we summarise data with pandas?"
   ]
  },
  {
   "cell_type": "markdown",
   "metadata": {},
   "source": [
    "Pandas provides several methods to generate descriptive statistics that summarise the central tendency, dispersion, and shape of a dataset's distribution."
   ]
  },
  {
   "cell_type": "code",
   "execution_count": null,
   "metadata": {},
   "outputs": [],
   "source": [
    "import pandas as pd\n",
    "\n",
    "# Load the Palmer Penguins dataset\n",
    "file_path = 'data/palmer_penguins.csv'\n",
    "penguins = pd.read_csv(file_path)"
   ]
  },
  {
   "cell_type": "markdown",
   "metadata": {},
   "source": [
    "The `describe()` function generates summary statistics for numerical columns in the dataset, including count, mean, standard deviation, minimum, and maximum values, as well as the 25th, 50th (median), and 75th percentiles."
   ]
  },
  {
   "cell_type": "code",
   "execution_count": null,
   "metadata": {},
   "outputs": [],
   "source": [
    "# Generate summary statistics for numerical columns\n",
    "summary_stats = penguins.describe()\n",
    "summary_stats"
   ]
  },
  {
   "cell_type": "markdown",
   "metadata": {},
   "source": [
    "This next cell calculates the mean (average) value for each numerical column in the dataset. The mean provides a measure of the central tendency of the data."
   ]
  },
  {
   "cell_type": "code",
   "execution_count": null,
   "metadata": {},
   "outputs": [],
   "source": [
    "# Get the mean of each numerical column\n",
    "mean_values = penguins.mean()\n",
    "mean_values"
   ]
  },
  {
   "cell_type": "markdown",
   "metadata": {},
   "source": [
    "The `median()` function calculates the median value for each numerical column in the dataset. The median is the middle value when the data is sorted, providing another measure of central tendency that is less sensitive to outliers than the mean."
   ]
  },
  {
   "cell_type": "code",
   "execution_count": null,
   "metadata": {},
   "outputs": [],
   "source": [
    "# Get the median of each numerical column\n",
    "median_values = penguins.median()\n",
    "median_values"
   ]
  },
  {
   "cell_type": "markdown",
   "metadata": {},
   "source": [
    "Next, the cell computes the standard deviation for each numerical column in the dataset. The standard deviation measures the amount of variation or dispersion in the data, indicating how spread out the values are from the mean."
   ]
  },
  {
   "cell_type": "code",
   "execution_count": null,
   "metadata": {},
   "outputs": [],
   "source": [
    "# Get the standard deviation of each numerical column\n",
    "std_dev = penguins.std()\n",
    "std_dev"
   ]
  },
  {
   "cell_type": "markdown",
   "metadata": {},
   "source": [
    "You may remember from earlier in the week, that the `min()` function calculates the minimum value for each numerical column, while the `max()` function calculates the maximum value. These values help identify the range of the data."
   ]
  },
  {
   "cell_type": "code",
   "execution_count": null,
   "metadata": {},
   "outputs": [],
   "source": [
    "# Get the minimum value of each numerical column\n",
    "min_values = penguins.min(numeric_only=True)\n",
    "min_values\n",
    "\n",
    "# Get the maximum value of each numerical column\n",
    "max_values = penguins.max(numeric_only=True)\n",
    "max_values"
   ]
  },
  {
   "cell_type": "markdown",
   "metadata": {},
   "source": [
    "This cell calculates the variance for each numerical column in the dataset. Variance measures the average squared deviation of each number from the mean, providing another way to understand data dispersion."
   ]
  },
  {
   "cell_type": "code",
   "execution_count": null,
   "metadata": {},
   "outputs": [],
   "source": [
    "# Calculate the variance of each numerical column\n",
    "variance_values = penguins.var()\n",
    "variance_values"
   ]
  },
  {
   "cell_type": "markdown",
   "metadata": {},
   "source": [
    "We can start to use the parameters built into the `describe` function we saw earlier. Using `describe(include='all')` generates a comprehensive overview of the dataset, including summary statistics for both numerical and categorical columns. This function provides a full picture of the dataset's central tendencies, dispersions, and categorical distributions."
   ]
  },
  {
   "cell_type": "code",
   "execution_count": null,
   "metadata": {},
   "outputs": [],
   "source": [
    "# Use the describe function to get a comprehensive overview\n",
    "comprehensive_overview = penguins.describe(include='all')\n",
    "comprehensive_overview"
   ]
  },
  {
   "cell_type": "markdown",
   "metadata": {},
   "source": [
    "--------\n",
    "\n",
    "## 2. Grouping data together.\n",
    "\n",
    "Grouping data allows us to split the dataset into subsets, perform operations on each subset, and then combine the results."
   ]
  },
  {
   "cell_type": "code",
   "execution_count": null,
   "metadata": {},
   "outputs": [],
   "source": [
    "# Group by species and calculate the mean of each numerical column\n",
    "grouped_by_species = penguins.groupby('species').mean()\n",
    "grouped_by_species"
   ]
  },
  {
   "cell_type": "markdown",
   "metadata": {},
   "source": [
    "This cell groups the data by the species column and calculates the mean of each numerical column for each species. Grouping by a single column helps us understand how the numerical features vary across different species."
   ]
  },
  {
   "cell_type": "code",
   "execution_count": null,
   "metadata": {},
   "outputs": [],
   "source": [
    "# Group by species and island, then calculate the mean\n",
    "grouped_by_species_island = penguins.groupby(['species', 'island']).mean()\n",
    "grouped_by_species_island"
   ]
  },
  {
   "cell_type": "markdown",
   "metadata": {},
   "source": [
    "This cell groups the data by both species and island columns, then calculates the mean of each numerical column for each combination of species and island. Grouping by multiple columns allows for more granular analysis of the data."
   ]
  },
  {
   "cell_type": "code",
   "execution_count": null,
   "metadata": {},
   "outputs": [],
   "source": [
    "# Aggregate multiple functions for each group\n",
    "aggregated_data = penguins.groupby('species').agg({\n",
    "    'bill_length_mm': ['mean', 'std'],\n",
    "    'body_mass_g': ['min', 'max']\n",
    "})\n",
    "aggregated_data"
   ]
  },
  {
   "cell_type": "markdown",
   "metadata": {},
   "source": [
    "This cell uses the agg() function to apply multiple aggregate functions (mean, median, standard deviation) to the grouped data by species. This provides a more detailed summary of each group."
   ]
  },
  {
   "cell_type": "code",
   "execution_count": null,
   "metadata": {},
   "outputs": [],
   "source": [
    "# Apply custom aggregation functions to grouped data\n",
    "custom_agg = penguins.groupby('species').agg({\n",
    "    'bill_length_mm': 'mean',\n",
    "    'bill_depth_mm': 'std',\n",
    "    'flipper_length_mm': 'max',\n",
    "    'body_mass_g': lambda x: x.max() - x.min()\n",
    "})\n",
    "custom_agg"
   ]
  },
  {
   "cell_type": "markdown",
   "metadata": {},
   "source": [
    "This cell demonstrates how to apply custom aggregation functions to the grouped data. It calculates the mean of bill_length_mm, standard deviation of bill_depth_mm, maximum of flipper_length_mm, and the range (max - min) of body_mass_g for each species."
   ]
  },
  {
   "cell_type": "code",
   "execution_count": null,
   "metadata": {},
   "outputs": [],
   "source": [
    "# Use transform to apply a function to each group\n",
    "normalized_body_mass = penguins.groupby('species')['body_mass_g'].transform(lambda x: (x - x.mean()) / x.std())\n",
    "penguins['normalized_body_mass'] = normalized_body_mass\n",
    "penguins.head()"
   ]
  },
  {
   "cell_type": "markdown",
   "metadata": {},
   "source": [
    "The `transform()` function is used to apply a function to each group and return a transformed version of the data. In this cell, we normalize the body_mass_g column for each species by subtracting the mean and dividing by the standard deviation."
   ]
  },
  {
   "cell_type": "code",
   "execution_count": null,
   "metadata": {},
   "outputs": [],
   "source": [
    "# Filter groups based on the mean of body mass\n",
    "filtered_groups = penguins.groupby('species').filter(lambda x: x['body_mass_g'].mean() > 4000)\n",
    "filtered_groups"
   ]
  },
  {
   "cell_type": "markdown",
   "metadata": {},
   "source": [
    "This cell uses the `filter()` function to filter groups based on a condition. It keeps only the groups where the mean body mass is greater than 4000 grams."
   ]
  },
  {
   "cell_type": "code",
   "execution_count": null,
   "metadata": {},
   "outputs": [],
   "source": [
    "# Generate descriptive statistics for groups\n",
    "group_descriptive_stats = penguins.groupby('species').describe()\n",
    "group_descriptive_stats"
   ]
  },
  {
   "cell_type": "markdown",
   "metadata": {},
   "source": [
    "The `describe()` function generates descriptive statistics for each group. This cell provides a comprehensive summary of the data for each species, including count, mean, standard deviation, and quartiles."
   ]
  },
  {
   "cell_type": "code",
   "execution_count": null,
   "metadata": {},
   "outputs": [],
   "source": [
    "# Iterate through groups and perform operations\n",
    "for name, group in penguins.groupby('species'):\n",
    "    print(f\"Species: {name}\")\n",
    "    print(group.head(), \"\\n\")"
   ]
  },
  {
   "cell_type": "markdown",
   "metadata": {},
   "source": [
    "This cell demonstrates how to iterate through groups using a for loop. It prints the name of each group (species) and the first few rows of the corresponding subset of the data. Iterating through groups allows for custom operations on each group."
   ]
  },
  {
   "cell_type": "markdown",
   "metadata": {},
   "source": [
    "----- \n",
    "\n",
    "## 3. Using value counts and unique values.\n",
    "\n",
    "Understanding the make-up of categorical variables is essential for summarising the dataset.\n",
    "\n",
    "Below, the cells use the `value_counts()` function to count the occurrences of each unique value in the species column. The result is a series showing the frequency of each unique value."
   ]
  },
  {
   "cell_type": "code",
   "execution_count": null,
   "metadata": {},
   "outputs": [],
   "source": [
    "# Get the count of unique values in the 'species' column\n",
    "species_counts = penguins['species'].value_counts()\n",
    "species_counts"
   ]
  },
  {
   "cell_type": "code",
   "execution_count": null,
   "metadata": {},
   "outputs": [],
   "source": [
    "# Get the count of unique values in the 'island' column\n",
    "island_counts = penguins['island'].value_counts()\n",
    "island_counts"
   ]
  },
  {
   "cell_type": "markdown",
   "metadata": {},
   "source": [
    "The `value_counts(normalize=True)` function returns the normalised value counts as proportions of the total count. This helps us understand the relative frequency of each unique value."
   ]
  },
  {
   "cell_type": "code",
   "execution_count": null,
   "metadata": {},
   "outputs": [],
   "source": [
    "# Get normalized value counts as proportions\n",
    "species_proportions = penguins['species'].value_counts(normalize=True)\n",
    "species_proportions"
   ]
  },
  {
   "cell_type": "markdown",
   "metadata": {},
   "source": [
    "Next, we can sort the value counts in descending order using the `sort_values()` function. Sorting helps in identifying the most frequent values quickly."
   ]
  },
  {
   "cell_type": "code",
   "execution_count": null,
   "metadata": {},
   "outputs": [],
   "source": [
    "# Sort the value counts in descending order\n",
    "sorted_species_counts = penguins['species'].value_counts().sort_values(ascending=False)\n",
    "sorted_species_counts"
   ]
  },
  {
   "cell_type": "markdown",
   "metadata": {},
   "source": [
    "These next two cells use the `unique()` function to find and display the unique values in the species column. The `unique()` function returns an array of unique values in the specified column."
   ]
  },
  {
   "cell_type": "code",
   "execution_count": null,
   "metadata": {},
   "outputs": [],
   "source": [
    "# Get the unique values in the 'species' column\n",
    "unique_species = penguins['species'].unique()\n",
    "unique_species"
   ]
  },
  {
   "cell_type": "code",
   "execution_count": null,
   "metadata": {},
   "outputs": [],
   "source": [
    "# Get the unique values in the 'island' column\n",
    "unique_islands = penguins['island'].unique()\n",
    "unique_islands"
   ]
  },
  {
   "cell_type": "markdown",
   "metadata": {},
   "source": [
    "The `nunique()` function is used to count the number of unique values in the species column. This gives us an idea of the distinct categories present in the column."
   ]
  },
  {
   "cell_type": "code",
   "execution_count": null,
   "metadata": {},
   "outputs": [],
   "source": [
    "# Count the number of unique values in the species column\n",
    "num_unique_species = penguins['species'].nunique()\n",
    "num_unique_species"
   ]
  },
  {
   "cell_type": "markdown",
   "metadata": {},
   "source": [
    "We can become fairly sophisticated fairly early on with filtering. This next cell filters the value counts to show only those unique values that have more than 50 occurrences. Filtering helps in focusing on the most significant categories."
   ]
  },
  {
   "cell_type": "code",
   "execution_count": null,
   "metadata": {},
   "outputs": [],
   "source": [
    "# Filter value counts to show only values with more than 50 occurrences\n",
    "filtered_species_counts = penguins['species'].value_counts()[penguins['species'].value_counts() > 50]\n",
    "filtered_species_counts"
   ]
  },
  {
   "cell_type": "markdown",
   "metadata": {},
   "source": [
    "Finally we demonstrate how to handle missing values when using `value_counts()`. By setting `dropna=False`, we include NaN values in the count. This is useful for understanding the distribution of missing data in the column."
   ]
  },
  {
   "cell_type": "code",
   "execution_count": null,
   "metadata": {},
   "outputs": [],
   "source": [
    "# Handle missing values when using value counts\n",
    "penguins_with_nan = penguins.copy()\n",
    "penguins_with_nan.loc[5:10, 'species'] = None  # Introduce some NaN values for demonstration\n",
    "\n",
    "species_counts_with_nan = penguins_with_nan['species'].value_counts(dropna=False)\n",
    "species_counts_with_nan"
   ]
  },
  {
   "cell_type": "markdown",
   "metadata": {},
   "source": [
    "-----\n",
    "\n",
    "## 4. Cross-tabs and pivot tables.\n",
    "\n",
    "Cross-tabulations and pivot tables allow us to summarise the data in a matrix format, providing insights into relationships between variables."
   ]
  },
  {
   "cell_type": "code",
   "execution_count": null,
   "metadata": {},
   "outputs": [],
   "source": [
    "# Create a cross-tabulation of species and island\n",
    "species_island_crosstab = pd.crosstab(penguins['species'], penguins['island'])\n",
    "species_island_crosstab"
   ]
  },
  {
   "cell_type": "markdown",
   "metadata": {},
   "source": [
    "This cell uses the `crosstab()` function to create a cross-tabulation of the species and island columns. The resulting table shows the frequency of each species on each island.\n",
    "\n",
    "The `margins=True` parameter in the `crosstab()` function adds row and column totals to the cross-tabulation. This helps in understanding the overall distribution and totals for each category."
   ]
  },
  {
   "cell_type": "code",
   "execution_count": null,
   "metadata": {},
   "outputs": [],
   "source": [
    "# Add margins to include row and column totals\n",
    "species_island_crosstab_margins = pd.crosstab(penguins['species'], penguins['island'], margins=True)\n",
    "species_island_crosstab_margins"
   ]
  },
  {
   "cell_type": "markdown",
   "metadata": {},
   "source": [
    "This cell normalizes the cross-tabulation to show proportions instead of raw counts. The `normalize='index'` parameter scales the counts to proportions within each row, making it easier to compare distributions across categories."
   ]
  },
  {
   "cell_type": "code",
   "execution_count": null,
   "metadata": {},
   "outputs": [],
   "source": [
    "# Normalize the cross-tabulation to show proportions\n",
    "species_island_crosstab_normalized = pd.crosstab(penguins['species'], penguins['island'], normalize='index')\n",
    "species_island_crosstab_normalized"
   ]
  },
  {
   "cell_type": "markdown",
   "metadata": {},
   "source": [
    "The `pivot_table()` function is used to create a basic pivot table with species as the index and island as the columns. The values in the pivot table are the average body mass (body_mass_g) for each combination of species and island."
   ]
  },
  {
   "cell_type": "code",
   "execution_count": null,
   "metadata": {},
   "outputs": [],
   "source": [
    "# Create a pivot table to summarize the mean body mass by species and sex\n",
    "pivot_table = penguins.pivot_table(values='body_mass_g', index='species', columns='sex', aggfunc='mean')\n",
    "pivot_table"
   ]
  },
  {
   "cell_type": "markdown",
   "metadata": {},
   "source": [
    "The next cell applies multiple aggregation functions (mean and median) in a pivot table. The resulting table shows both the mean and median body mass for each combination of species and island."
   ]
  },
  {
   "cell_type": "code",
   "execution_count": null,
   "metadata": {},
   "outputs": [],
   "source": [
    "# Apply multiple aggregation functions in a pivot table\n",
    "pivot_table_agg = pd.pivot_table(penguins, values='body_mass_g', index='species', columns='island', aggfunc=['mean', 'median'])\n",
    "pivot_table_agg"
   ]
  },
  {
   "cell_type": "markdown",
   "metadata": {},
   "source": [
    "It is also possible to make custom aggregation functions in a pivot table. The following cell calculates the range (max - min) of body mass for each combination of species and island."
   ]
  },
  {
   "cell_type": "code",
   "execution_count": null,
   "metadata": {},
   "outputs": [],
   "source": [
    "# Use custom aggregation functions in a pivot table\n",
    "pivot_table_custom_agg = pd.pivot_table(penguins, values='body_mass_g', index='species', columns='island', aggfunc={'body_mass_g': lambda x: x.max() - x.min()})\n",
    "pivot_table_custom_agg"
   ]
  },
  {
   "cell_type": "markdown",
   "metadata": {},
   "source": [
    "Below we see that we can also create pivot tables with multiple index columns (here species and sex). The pivot table shows the average body mass for each combination of species, sex, and island."
   ]
  },
  {
   "cell_type": "code",
   "execution_count": null,
   "metadata": {},
   "outputs": [],
   "source": [
    "# Create a pivot table with multiple index columns\n",
    "pivot_table_multi_index = pd.pivot_table(penguins, values='body_mass_g', index=['species', 'sex'], columns='island')\n",
    "pivot_table_multi_index"
   ]
  },
  {
   "cell_type": "markdown",
   "metadata": {},
   "source": [
    "------\n",
    "\n",
    "## ⭐️⭐️⭐️💥 What you learned in this session: Three stars and a wish.\n",
    "**In your own words** write in the Markdown cell below:\n",
    "\n",
    "- 3 things you would like to remember from this notebook.\n",
    "- 1 thing you wish to understand better in the future or a question you'd like to ask."
   ]
  },
  {
   "cell_type": "markdown",
   "metadata": {},
   "source": [
    "*Add your reflections here.*"
   ]
  },
  {
   "cell_type": "markdown",
   "metadata": {},
   "source": [
    "--------------\n",
    "\n",
    "## Topic Overview"
   ]
  },
  {
   "cell_type": "code",
   "execution_count": null,
   "metadata": {},
   "outputs": [],
   "source": [
    "# Generate summary statistics for numerical columns\n",
    "summary_stats = penguins.describe()\n",
    "summary_stats"
   ]
  },
  {
   "cell_type": "code",
   "execution_count": null,
   "metadata": {},
   "outputs": [],
   "source": [
    "# Group by species and calculate the mean of each numerical column\n",
    "grouped_by_species = penguins.groupby('species').mean()\n",
    "grouped_by_species"
   ]
  },
  {
   "cell_type": "code",
   "execution_count": null,
   "metadata": {},
   "outputs": [],
   "source": [
    "# Count the occurrences of each unique value in the species column\n",
    "species_counts = penguins['species'].value_counts()\n",
    "species_counts"
   ]
  },
  {
   "cell_type": "code",
   "execution_count": null,
   "metadata": {},
   "outputs": [],
   "source": [
    "# Create a basic pivot table with species as index and island as columns\n",
    "pivot_table_basic = pd.pivot_table(penguins, values='body_mass_g', index='species', columns='island')\n",
    "pivot_table_basic"
   ]
  },
  {
   "cell_type": "markdown",
   "metadata": {},
   "source": [
    "-----------\n",
    "\n",
    "# ⛏ Exercise: What's occuring in Palmer penguins?\n",
    "\n",
    "Analyse the Palmer Penguins dataset to understand the distribution and characteristics of different penguin species. You will use descriptive statistics, grouping, and value counts to perform this analysis.\n",
    "\n",
    "1. Load the Dataset:\n",
    "Load the Palmer Penguins dataset from the provided file path.\n",
    "\n",
    "2. Summary Statistics:\n",
    "Generate summary statistics for numerical columns in the dataset and interpret the results.\n",
    "\n",
    "3. Group by Species:\n",
    "Group the data by the species column and calculate the mean, median, and standard deviation for each numerical column.\n",
    "\n",
    "4. Value Counts:\n",
    "Count the occurrences of each unique value in the species column. Additionally, count the occurrences of unique values in the island column.\n",
    "\n",
    "5. Filtering:\n",
    "Filter the dataset to include only observations of the species \"Adelie\" and generate summary statistics for this subset.\n",
    "\n",
    "6. Write a Short Report:\n",
    "Write a short report summarising your findings. Include observations about the differences between species, the distribution of penguins across islands, and any other interesting insights."
   ]
  },
  {
   "cell_type": "code",
   "execution_count": null,
   "metadata": {},
   "outputs": [],
   "source": [
    "# try to solve the task here"
   ]
  },
  {
   "cell_type": "markdown",
   "metadata": {},
   "source": [
    "*write your findings here*"
   ]
  },
  {
   "cell_type": "markdown",
   "metadata": {},
   "source": [
    "# ⛏ Exercise: And **pivot**\n",
    "\n",
    "Use pivot tables to analyse the relationship between different variables in the Palmer Penguins dataset. This exercise will help you understand how to create pivot tables and interpret their results.\n",
    "\n",
    "1. Create a Basic Pivot Table:\n",
    "Create a pivot table with species as the index and island as the columns. The values should be the average body mass (body_mass_g).\n",
    "\n",
    "2. Add Aggregations:\n",
    "Create another pivot table with species as the index and island as the columns, but this time include both the mean and median of body_mass_g.\n",
    "\n",
    "3. Custom Aggregations:\n",
    "Create a pivot table that calculates the range (max - min) of body_mass_g for each combination of species and island.\n",
    "\n",
    "4. Multiple Indexes and Values:\n",
    "Create a pivot table with species and sex as the index columns and island as the columns. Include both body_mass_g and flipper_length_mm as values and calculate the mean.\n",
    "\n",
    "5. Write a Short Report:\n",
    "Write a short report summarising your findings from the pivot tables. Include observations about the relationships between species, islands, body mass, and flipper length."
   ]
  },
  {
   "cell_type": "code",
   "execution_count": null,
   "metadata": {},
   "outputs": [],
   "source": [
    "# try to solve the task here"
   ]
  },
  {
   "cell_type": "markdown",
   "metadata": {},
   "source": [
    "*write your findings here*"
   ]
  }
 ],
 "metadata": {
  "kernelspec": {
   "display_name": "Python 3 (ipykernel)",
   "language": "python",
   "name": "python3"
  },
  "language_info": {
   "codemirror_mode": {
    "name": "ipython",
    "version": 3
   },
   "file_extension": ".py",
   "mimetype": "text/x-python",
   "name": "python",
   "nbconvert_exporter": "python",
   "pygments_lexer": "ipython3",
   "version": "3.9.15"
  }
 },
 "nbformat": 4,
 "nbformat_minor": 2
}

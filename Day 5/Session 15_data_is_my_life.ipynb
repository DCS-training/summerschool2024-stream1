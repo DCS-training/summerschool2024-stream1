{
 "cells": [
  {
   "cell_type": "markdown",
   "id": "d0ccc41e-67c2-4d63-89d8-51525cf08b6b",
   "metadata": {},
   "source": [
    "# Notebook for playing with data\n",
    "\n",
    "In this notebook, we will play with the data:\n",
    "\n",
    "1. load and explore datasets we found for you\n",
    "2. In first session try to make one graph for each that interests you\n",
    "3. In the second session, focus on exploring your favourite one more deeply"
   ]
  },
  {
   "cell_type": "code",
   "execution_count": 1,
   "id": "dbfe6fc6-15b4-42c3-bfed-431c2ab99f94",
   "metadata": {},
   "outputs": [],
   "source": [
    "import pandas as pd\n",
    "\n",
    "def load_file_called(filename):\n",
    "    file_path = f'../data/{filename}'\n",
    "    data_df = pd.read_csv(file_path)\n",
    "    return data_df"
   ]
  },
  {
   "cell_type": "code",
   "execution_count": 2,
   "id": "f5c99518-38d0-4867-972a-c9b6cbd5359c",
   "metadata": {},
   "outputs": [],
   "source": [
    "# load the data - some files are huge, so if your noteable is geting frozen: \n",
    "# comment our files you're not using, restar kernel, and then re-run this cell\n",
    "british_airways_tweets = load_file_called(\"British_Airways_tweets.csv\")\n",
    "salary_usa_census = load_file_called(\"salary-usa-census.csv\")\n",
    "edinburgh_airbnb_listings = load_file_called(\"edinburgh_airbnb_listings.csv\")\n",
    "imdb_top_1000 = load_file_called(\"imdb_top_1000.csv\")\n",
    "movies = load_file_called(\"movies.csv\")\n",
    "netflix = load_file_called(\"netflix.csv\")\n",
    "parlScot_parl_covid = load_file_called(\"parlScot_parl_v1.1-covid.csv\")\n",
    "spotify_232000songs = load_file_called(\"spotify_232000songs.csv\")\n",
    "titanic_kaggle_train = load_file_called(\"titanic_kaggle_train.csv\")\n",
    "palmer_penguins = load_file_called(\"palmer_penguins.csv\")"
   ]
  },
  {
   "cell_type": "code",
   "execution_count": null,
   "id": "afa04c92-3edb-4b5e-a9ea-4fc2efdef99d",
   "metadata": {},
   "outputs": [],
   "source": []
  },
  {
   "cell_type": "code",
   "execution_count": null,
   "id": "92ea4db2-de4d-4858-a1c6-2300b9b375f2",
   "metadata": {},
   "outputs": [],
   "source": []
  }
 ],
 "metadata": {
  "kernelspec": {
   "display_name": "Python 3 (ipykernel)",
   "language": "python",
   "name": "python3"
  },
  "language_info": {
   "codemirror_mode": {
    "name": "ipython",
    "version": 3
   },
   "file_extension": ".py",
   "mimetype": "text/x-python",
   "name": "python",
   "nbconvert_exporter": "python",
   "pygments_lexer": "ipython3",
   "version": "3.11.8"
  }
 },
 "nbformat": 4,
 "nbformat_minor": 5
}
